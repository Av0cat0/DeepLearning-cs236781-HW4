{
 "cells": [
  {
   "cell_type": "markdown",
   "metadata": {},
   "source": [
    "$$\n",
    "\\newcommand{\\mat}[1]{\\boldsymbol {#1}}\n",
    "\\newcommand{\\mattr}[1]{\\boldsymbol {#1}^\\top}\n",
    "\\newcommand{\\matinv}[1]{\\boldsymbol {#1}^{-1}}\n",
    "\\newcommand{\\vec}[1]{\\boldsymbol {#1}}\n",
    "\\newcommand{\\vectr}[1]{\\boldsymbol {#1}^\\top}\n",
    "\\newcommand{\\rvar}[1]{\\mathrm {#1}}\n",
    "\\newcommand{\\rvec}[1]{\\boldsymbol{\\mathrm{#1}}}\n",
    "\\newcommand{\\diag}{\\mathop{\\mathrm {diag}}}\n",
    "\\newcommand{\\set}[1]{\\mathbb {#1}}\n",
    "\\newcommand{\\cset}[1]{\\mathcal{#1}}\n",
    "\\newcommand{\\norm}[1]{\\left\\lVert#1\\right\\rVert}\n",
    "\\newcommand{\\pderiv}[2]{\\frac{\\partial #1}{\\partial #2}}\n",
    "\\newcommand{\\bb}[1]{\\boldsymbol{#1}}\n",
    "\\newcommand{\\E}[2][]{\\mathbb{E}_{#1}\\left[#2\\right]}\n",
    "\\newcommand{\\ip}[3]{\\left<#1,#2\\right>_{#3}}\n",
    "\\newcommand{\\given}[]{\\,\\middle\\vert\\,}\n",
    "\\newcommand{\\DKL}[2]{\\cset{D}_{\\text{KL}}\\left(#1\\,\\Vert\\, #2\\right)}\n",
    "\\newcommand{\\grad}[]{\\nabla}\n",
    "$$\n",
    "# Part 1: Deep Reinforcement Learning\n",
    "<a id=part1></a>"
   ]
  },
  {
   "cell_type": "markdown",
   "metadata": {},
   "source": [
    "In the tutorial we have seen value-based reinforcement learning, in which we learn to approximate the action-value function $q(s,a)$.\n",
    "\n",
    "In this exercise we'll explore a different approach, directly learning the agent's policy distribution, $\\pi(a|s)$\n",
    "by using *policy gradients*, in order to safely land on the moon!"
   ]
  },
  {
   "cell_type": "code",
   "execution_count": 1,
   "metadata": {},
   "outputs": [],
   "source": [
    "%load_ext autoreload\n",
    "%autoreload 2\n",
    "%matplotlib inline\n",
    "\n",
    "import unittest\n",
    "import os\n",
    "import sys\n",
    "import pathlib\n",
    "import urllib\n",
    "import shutil\n",
    "import re\n",
    "\n",
    "import numpy as np\n",
    "import torch\n",
    "import torch.nn as nn\n",
    "import torch.optim as optim\n",
    "import matplotlib.pyplot as plt"
   ]
  },
  {
   "cell_type": "code",
   "execution_count": 2,
   "metadata": {},
   "outputs": [
    {
     "name": "stdout",
     "output_type": "stream",
     "text": [
      "Using device: cpu\n"
     ]
    }
   ],
   "source": [
    "test = unittest.TestCase()\n",
    "plt.rcParams.update({'font.size': 12})\n",
    "device = torch.device('cuda' if torch.cuda.is_available() else 'cpu')\n",
    "\n",
    "# Prefer CPU, GPU won't help much in this assignment\n",
    "device = 'cpu'\n",
    "print('Using device:', device)\n",
    "\n",
    "# Seed for deterministic tests\n",
    "SEED = 42"
   ]
  },
  {
   "cell_type": "markdown",
   "metadata": {},
   "source": [
    "Some technical notes before we begin:\n",
    "\n",
    "- This part does not require a GPU. We won't need large models, and the computation bottleneck will be the generation of episodes to train on.\n",
    "- In order to run this notebook on the server, you must prepend the `xvfb-run` command to create a virtual screen. For example,\n",
    "    - to run this notebook with `srun` do\n",
    "        ```\n",
    "        srun -c2 --gres=gpu:1 xvfb-run -a -s \"-screen 0 1440x900x24\" python main.py run-nb <filename>\n",
    "        ```\n",
    "    - To run the submission script, do\n",
    "        ```\n",
    "        srun -c2 xvfb-run -a -s \"-screen 0 1440x900x24\" python main.py prepare-submission ...\n",
    "        ```\n",
    "    - note that we have already included the `xvfb-run` command inside the `jupyter-lab.sh` script, so you can use it as usual with `srun`.\n",
    "    and so on.\n",
    "- The OpenAI `gym` library is not officially supported on windows. However it should be possible to install and run the necessary environment for this exercise. However, we cannot provide you with technical support for this. If you have trouble installing locally, we suggest running on the course server.\n",
    "- When running the `gym` environment locally (i.e. not on the course server), an interactive window should appear, showing you the gameplay. There's currently a known issue when running this through jupyter: the window may remain open and seem stuck after the episode completes. If it happens, this is OK, you can keep running the notebook and the rest of the cells wont be affected. The Window will close properly when you shut down the kernel."
   ]
  },
  {
   "cell_type": "markdown",
   "metadata": {},
   "source": [
    "## Policy gradients\n",
    "<a id=part1_1></a>"
   ]
  },
  {
   "cell_type": "markdown",
   "metadata": {},
   "source": [
    "Recall from the tutorial that we define the **policy** of an agent as the conditional distribution,\n",
    "$$\n",
    "\\pi(a|s) = \\Pr(a_t=a\\vert s_t=s),\n",
    "$$\n",
    "which defines how likely the agent is to take action $a$ at state $s$.\n",
    "\n",
    "Furthermore we define the action-value function,\n",
    "$$\n",
    "q_{\\pi}(s,a) = \\E{g_t(\\tau)|s_t = s,a_t=a,\\pi}\n",
    "$$\n",
    "where \n",
    "$$\n",
    "g_t(\\tau) = r_{t+1}+\\gamma r_{t+2} + \\dots = \\sum_{k=0}^{\\infty} \\gamma^k r_{t+1+k},\n",
    "$$\n",
    "is the total discounted reward of a specific trajectory $\\tau$ from time $t$, and the expectation in $q$ is over all possible\n",
    "trajectories,\n",
    "$\n",
    "\\tau=\\left\\{ (s_0,a_0,r_1,s_1), \\dots (s_T,a_T,r_{T+1},s_{T+1}) \\right\\}.\n",
    "$"
   ]
  },
  {
   "cell_type": "markdown",
   "metadata": {},
   "source": [
    "In the tutorial we saw that we can learn a value function starting with some random function and\n",
    "updating it iteratively by using the **Bellman optimality equation**.\n",
    "Given that we have some action-value function, we can immediately create a policy based on that\n",
    "by simply selecting an action which maximize the action-value at the current state, i.e.\n",
    "$$\n",
    "\\pi(a|s) =\n",
    "\\begin{cases}\n",
    "1, & a = \\arg\\max_{a'\\in\\cset{A}} q(s,a') \\\\\n",
    "0, & \\text{else}\n",
    "\\end{cases}.\n",
    "$$\n",
    "This is called $q$-learning. This approach aims to obtain a policy indirectly through the action-value function.\n",
    "Yet, in most cases we don't actually care about knowing the value of particular states,\n",
    "since all we need is a good policy for our agent. \n",
    "\n",
    "Here we'll take a different approach and learn a policy distribution $\\pi(a|s)$ directly - by using **policy gradients**."
   ]
  },
  {
   "cell_type": "markdown",
   "metadata": {},
   "source": [
    "### Formalism"
   ]
  },
  {
   "cell_type": "markdown",
   "metadata": {},
   "source": [
    "We define a parametric policy, $\\pi_\\vec{\\theta}(a|s)$, and maximize total discounted reward (or minimize the negative reward):\n",
    "$$\n",
    "\\mathcal{L}(\\vec{\\theta})=\\E[\\tau]{-g(\\tau)|\\pi_\\vec{\\theta}} = -\\int g(\\tau)p(\\tau|\\vec{\\theta})d\\tau,\n",
    "$$\n",
    "where $p(\\tau|\\vec{\\theta})$ is the probability of a specific trajectory $\\tau$ under the policy defined by $\\vec{\\theta}$.\n"
   ]
  },
  {
   "cell_type": "markdown",
   "metadata": {},
   "source": [
    "Since we want to find the parameters $\\vec{\\theta}$ which minimize $\\mathcal{L}(\\vec{\\theta})$, we'll compute the gradient w.r.t. $\\vec{\\theta}$:\n",
    "$$\n",
    "\\grad\\mathcal{L}(\\vec{\\theta}) = -\\int g(\\tau)\\grad p(\\tau|\\vec{\\theta})d\\tau.\n",
    "$$\n",
    "\n",
    "Unfortunately, if we try to write $p(\\tau|\\vec{\\theta})$ explicitly,\n",
    "we find that computing it's gradient with respect to $\\vec{\\theta}$ is\n",
    "quite intractable due to a huge product of terms depending on $\\vec{\\theta}$:\n",
    "$$\n",
    "p(\\tau|\\vec{\\theta})=p\\left(\\left\\{ (s_t,a_t,r_{t+1},s_{t+1})\\right\\}_{t\\geq0}\\given\\vec{\\theta}\\right)\n",
    "=p(s_0)\\prod_{t\\geq0} \\pi_{\\vec{\\theta}}(a_t|s_t)p(s_{t+1}|s_t,a_t).\n",
    "$$"
   ]
  },
  {
   "cell_type": "markdown",
   "metadata": {},
   "source": [
    "However, by using the fact that $\\grad_{x}\\log(f(x))=\\frac{\\grad_{x}f(x)}{f(x)}$, we can convert the product into a sum:\n",
    "$$\n",
    "\\begin{align}\n",
    "\\grad\\mathcal{L}(\\vec{\\theta})\n",
    "&= -\\int g(\\tau)\\grad p(\\tau|\\vec{\\theta})d\\tau\n",
    "= -\\int g(\\tau)\\frac{\\grad p(\\tau|\\vec{\\theta})}{p(\\tau|\\vec{\\theta})}p(\\tau|\\vec{\\theta})d\\tau \\\\\n",
    "&= -\\int g(\\tau)\\grad\\log\\left(p(\\tau|\\vec{\\theta})\\right)p(\\tau|\\vec{\\theta})d\\tau \\\\\n",
    "&= -\\int g(\\tau)\\grad\\log\\left( p(s_0)\\prod_{t\\geq0} \\pi_{\\vec{\\theta}}(a_t|s_t)p(s_{t+1}|s_t,a_t) \\right)\n",
    "p(\\tau|\\vec{\\theta})d\\tau \\\\\n",
    "&= -\\int g(\\tau)\\grad\\left( \\log p(s_0) + \\sum_{t\\geq0} \\log \\pi_{\\vec{\\theta}}(a_t|s_t) + \n",
    "\\sum_{t\\geq0}\\log p(s_{t+1}|s_t,a_t) \\right) p(\\tau|\\vec{\\theta})d\\tau \\\\\n",
    "&= -\\int g(\\tau)\\sum_{t\\geq0} \\grad\\log \\pi_{\\vec{\\theta}}(a_t|s_t) p(\\tau|\\vec{\\theta})d\\tau \\\\\n",
    "&= \\E[\\tau]{-g(\\tau)\\sum_{t\\geq0} \\grad\\log \\pi_{\\vec{\\theta}}(a_t|s_t)}.\n",
    "\\end{align}\n",
    "$$"
   ]
  },
  {
   "cell_type": "markdown",
   "metadata": {},
   "source": [
    "This is the \"vanilla\" version of the policy gradient. We can interpret is as a weighted log-likelihood function.\n",
    "The log-policy is the log-likelihood term we wish to maximize and the total discounted reward acts as a weight: high-return positive\n",
    "trajectories will cause the probability of actions taken during them to increase, and negative-return trajectories will cause the\n",
    "probabilities of actions taken to decrease.\n",
    "\n",
    "In the following figures we see three trajectories: high-return positive-reward (green), low-return positive-reward (yellow) and negative-return (red) and the action probabilities along the trajectories after the update. Credit: Sergey Levine.\n",
    "\n",
    "|<strong></strong>||\n",
    "|-----| ----|\n",
    "|<img src=\"imgs/pg1.png\" height=\"200\">|<img src=\"imgs/pg2.png\" height=\"200\">|\n"
   ]
  },
  {
   "cell_type": "markdown",
   "metadata": {},
   "source": [
    "The major drawback of the policy-gradient is it's high variance, which causes erratic optimization behavior and therefore slow convergence.\n",
    "One reason for this is that the log-policy weight term, $g(\\tau)$ can vary wildly between different trajectories, even if they're similar in\n",
    "actions. Later on we'll implement the loss and explore some methods of variance reduction."
   ]
  },
  {
   "cell_type": "markdown",
   "metadata": {},
   "source": [
    "### Landing on the moon with policy gradients"
   ]
  },
  {
   "cell_type": "markdown",
   "metadata": {},
   "source": [
    "In the spirit of the recent achievements of the Israeli space industry,\n",
    "we'll apply our reinforcement learning skills to solve a simple game called **LunarLander**.\n",
    "\n",
    "This game is available as an `environment` in OpenAI `gym`.\n",
    "\n",
    "<video loop autoplay src=\"http://gym.openai.com/videos/2019-04-06--My9IiAbqha/LunarLander-v2/original.mp4\" />"
   ]
  },
  {
   "cell_type": "markdown",
   "metadata": {},
   "source": [
    "In this environment, you need to control the lander and get it to land safely on the moon.\n",
    "To do so, you must apply bottom, right or left thrusters (each are either fully on or fully off)\n",
    "and get it to land within the designated zone as quickly as possible and with minimal wasted fuel."
   ]
  },
  {
   "cell_type": "code",
   "execution_count": 3,
   "metadata": {},
   "outputs": [],
   "source": [
    "import gym\n",
    "\n",
    "# Just for fun :) ... but also to re-define the default max number of steps\n",
    "ENV_NAME = 'Beresheet-v2'\n",
    "MAX_EPISODE_STEPS = 300\n",
    "if ENV_NAME not in gym.envs.registry.env_specs:\n",
    "    gym.register(\n",
    "        id=ENV_NAME,\n",
    "        entry_point='gym.envs.box2d:LunarLander',\n",
    "        max_episode_steps=MAX_EPISODE_STEPS,\n",
    "        reward_threshold=200,\n",
    "    )"
   ]
  },
  {
   "cell_type": "code",
   "execution_count": 4,
   "metadata": {},
   "outputs": [
    {
     "name": "stdout",
     "output_type": "stream",
     "text": [
      "<TimeLimit<LunarLander<Beresheet-v2>>>\n",
      "observations space: Box([-inf -inf -inf -inf -inf -inf -inf -inf], [inf inf inf inf inf inf inf inf], (8,), float32)\n",
      "action space: Discrete(4)\n"
     ]
    }
   ],
   "source": [
    "import gym\n",
    "\n",
    "env = gym.make(ENV_NAME)\n",
    "\n",
    "print(env)\n",
    "print(f'observations space: {env.observation_space}')\n",
    "print(f'action space: {env.action_space}')\n",
    "\n",
    "ENV_N_ACTIONS = env.action_space.n\n",
    "ENV_N_OBSERVATIONS = env.observation_space.shape[0]"
   ]
  },
  {
   "cell_type": "markdown",
   "metadata": {},
   "source": [
    "The observations at each step is the Lander's position, velocity, angle, angular velocity and ground contact state.\n",
    "The actions are no-op, fire left truster, bottom thruster and right thruster.\n",
    "\n",
    "You are **highly encouraged** to read the [documentation](https://github.com/openai/gym/blob/master/gym/envs/box2d/lunar_lander.py) in the source code of the `LunarLander` environment to understand the reward system,\n",
    "and see how the actions and observations are created."
   ]
  },
  {
   "cell_type": "markdown",
   "metadata": {},
   "source": [
    "### Policy network and Agent"
   ]
  },
  {
   "cell_type": "markdown",
   "metadata": {},
   "source": [
    "Let's start with our policy-model. This will be a simple neural net, which should take an observation and return a score for each possible action."
   ]
  },
  {
   "cell_type": "markdown",
   "metadata": {},
   "source": [
    "**TODO**:\n",
    "1. Implement all methods in the `PolicyNet` class in the `hw4/rl_pg.py` module.\n",
    "   Start small. A simple MLP with a few hidden layers is a good starting point. You can come back and change it later based on the the experiments.  \n",
    "   Notice that we'll use the `build_for_env` method to instantiate a `PolicyNet` based on the configuration of a given environment.\n",
    "2. If you need hyperparameters to configure your model (e.g. number of hidden layers, sizes, etc.), add them in `part1_pg_hyperparams()` in `hw4/answers.py`."
   ]
  },
  {
   "cell_type": "code",
   "execution_count": 5,
   "metadata": {},
   "outputs": [
    {
     "data": {
      "text/plain": [
       "PolicyNet(\n",
       "  (pnn): Sequential(\n",
       "    (0): Linear(in_features=8, out_features=256, bias=True)\n",
       "    (1): ReLU()\n",
       "    (2): Linear(in_features=256, out_features=256, bias=True)\n",
       "    (3): ReLU()\n",
       "    (4): Linear(in_features=256, out_features=4, bias=True)\n",
       "  )\n",
       ")"
      ]
     },
     "execution_count": 5,
     "metadata": {},
     "output_type": "execute_result"
    }
   ],
   "source": [
    "import hw4.rl_pg as hw4pg\n",
    "import hw4.answers\n",
    "\n",
    "hp = hw4.answers.part1_pg_hyperparams()\n",
    "\n",
    "# You can add keyword-args to this function which will be populated from the\n",
    "# hyperparameters dict.\n",
    "p_net = hw4pg.PolicyNet.build_for_env(env, device, **hp)\n",
    "p_net"
   ]
  },
  {
   "cell_type": "markdown",
   "metadata": {},
   "source": [
    "Now we need an **agent**. The purpose of our agent will be to act according to the current policy and generate experiences.\n",
    "Our `PolicyAgent` will use a `PolicyNet` as the current policy function.\n",
    "\n",
    "\n",
    "We'll also define some extra datatypes to help us represent the data generated by our agent.\n",
    "You can find the `Experience`, `Episode` and `TrainBatch` datatypes in the `hw4/rl_data.py` module."
   ]
  },
  {
   "cell_type": "markdown",
   "metadata": {},
   "source": [
    "**TODO**: Implement the `current_action_distribution()` method of the `PolicyAgent` class in the `hw4/rl_pg.py` module."
   ]
  },
  {
   "cell_type": "code",
   "execution_count": 6,
   "metadata": {},
   "outputs": [
    {
     "name": "stdout",
     "output_type": "stream",
     "text": [
      "tensor([0.2294, 0.2585, 0.2389, 0.2732])\n"
     ]
    }
   ],
   "source": [
    "for i in range (10):\n",
    "    agent = hw4pg.PolicyAgent(env, p_net, device)\n",
    "    d = agent.current_action_distribution()\n",
    "    \n",
    "    test.assertSequenceEqual(d.shape, (env.action_space.n,))\n",
    "    test.assertAlmostEqual(d.sum(), 1.0, delta=1e-5)\n",
    "    \n",
    "print(d)"
   ]
  },
  {
   "cell_type": "markdown",
   "metadata": {},
   "source": [
    "**TODO**: Implement the `step()` method of the `PolicyAgent`."
   ]
  },
  {
   "cell_type": "code",
   "execution_count": 7,
   "metadata": {},
   "outputs": [
    {
     "name": "stdout",
     "output_type": "stream",
     "text": [
      "Experience(state=array([ 0.00782356,  1.4312687 ,  0.40261707,  0.43951112, -0.01118807,\n",
      "       -0.13432851,  0.        ,  0.        ], dtype=float32), action=3, reward=-0.5224724503830191, is_done=False)\n"
     ]
    }
   ],
   "source": [
    "agent = hw4pg.PolicyAgent(env, p_net, device)\n",
    "exp = agent.step()\n",
    "\n",
    "test.assertIsInstance(exp, hw4pg.Experience)\n",
    "print(exp)"
   ]
  },
  {
   "cell_type": "markdown",
   "metadata": {},
   "source": [
    "To test our agent, we'll write some code that allows it to play an environment. We'll use the `Monitor`\n",
    "wrapper in `gym` to generate a video of the episode for visual debugging."
   ]
  },
  {
   "cell_type": "markdown",
   "metadata": {},
   "source": [
    "**TODO**: Complete the implementation of the `monitor_episode()` method of the `PolicyAgent`."
   ]
  },
  {
   "cell_type": "code",
   "execution_count": 8,
   "metadata": {},
   "outputs": [],
   "source": [
    "env, n_steps, reward = agent.monitor_episode(ENV_NAME, p_net, device=device)"
   ]
  },
  {
   "cell_type": "markdown",
   "metadata": {},
   "source": [
    "To display the Monitor video in this notebook, we'll use a helper function from our `jupyter_utils` and a small wrapper that extracts the path of the last video file. "
   ]
  },
  {
   "cell_type": "code",
   "execution_count": 9,
   "metadata": {},
   "outputs": [],
   "source": [
    "import cs236781.jupyter_utils as jupyter_utils\n",
    "\n",
    "def show_monitor_video(monitor_env, idx=0, **kw):\n",
    "    # Extract video path\n",
    "    video_path = monitor_env.videos[idx][0]\n",
    "    video_path = os.path.relpath(video_path, start=os.path.curdir)\n",
    "    \n",
    "    # Use helper function to embed the video\n",
    "    return jupyter_utils.show_video_in_notebook(video_path, **kw)"
   ]
  },
  {
   "cell_type": "code",
   "execution_count": 10,
   "metadata": {},
   "outputs": [
    {
     "name": "stdout",
     "output_type": "stream",
     "text": [
      "Episode ran for 81 steps. Total reward: -366.70\n"
     ]
    },
    {
     "data": {
      "text/html": [
       "<video src=\"data:video/mp4;base64,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\" controls autoplay width=\"500\" height=\"auto\" />"
      ],
      "text/plain": [
       "<IPython.core.display.HTML object>"
      ]
     },
     "execution_count": 10,
     "metadata": {},
     "output_type": "execute_result"
    }
   ],
   "source": [
    "print(f'Episode ran for {n_steps} steps. Total reward: {reward:.2f}')\n",
    "\n",
    "show_monitor_video(env, idx=0)"
   ]
  },
  {
   "cell_type": "markdown",
   "metadata": {},
   "source": [
    "### Training data"
   ]
  },
  {
   "cell_type": "markdown",
   "metadata": {},
   "source": [
    "The next step is to create data to train on.\n",
    "We need to train on batches of state-action pairs, so that our network can learn to predict the actions.\n",
    "\n",
    "We'll split this task into three parts:\n",
    "1. Generate a batch of `Episode`s, by using an `Agent` that's playing according to our current policy network.\n",
    "   Each `Episode` object contains the `Experience` objects created by the agent.\n",
    "2. Calculate the total discounted reward for each state we encountered and action we took. This is our action-value estimate.\n",
    "3. Convert the `Episode`s into a batch of tensors to train on.\n",
    "   Each batch will contain states, action taken per state, reward accrued, and the calculated estimated state-values.\n",
    "   These will be stored in a `TrainBatch` object.\n"
   ]
  },
  {
   "cell_type": "markdown",
   "metadata": {},
   "source": [
    "**TODO**: Complete the implementation of the `episode_batch_generator()` method in the `TrainBatchDataset` class within the `hw4.rl_data` module. This will address part 1 in the list above."
   ]
  },
  {
   "cell_type": "code",
   "execution_count": 11,
   "metadata": {},
   "outputs": [
    {
     "name": "stdout",
     "output_type": "stream",
     "text": [
      "First episode: Episode(total_reward=-154.46, #experences=78)\n"
     ]
    }
   ],
   "source": [
    "import hw4.rl_data as hw4data\n",
    "\n",
    "def agent_fn():\n",
    "    env = gym.make(ENV_NAME)\n",
    "    hp = hw4.answers.part1_pg_hyperparams()\n",
    "    p_net = hw4pg.PolicyNet.build_for_env(env, device, **hp)\n",
    "    return hw4pg.PolicyAgent(env, p_net, device)\n",
    "    \n",
    "ds = hw4data.TrainBatchDataset(agent_fn, episode_batch_size=8, gamma=0.9)\n",
    "batch_gen = ds.episode_batch_generator()\n",
    "b = next(batch_gen)\n",
    "print('First episode:', b[0])\n",
    "\n",
    "test.assertEqual(len(b), 8)\n",
    "for ep in b:\n",
    "    test.assertIsInstance(ep, hw4data.Episode)\n",
    "    \n",
    "    # Check that it's a full episode\n",
    "    is_done = [exp.is_done for exp in ep.experiences]\n",
    "    test.assertFalse(any(is_done[0:-1]))\n",
    "    test.assertTrue(is_done[-1])"
   ]
  },
  {
   "cell_type": "markdown",
   "metadata": {},
   "source": [
    "**TODO**: Complete the implementation of the `calc_qvals()` method in the `Episode` class.\n",
    "This will address part 2.\n",
    "These q-values are an estimate of the actual action value function: $$\\hat{q}_{t} = \\sum_{t'\\geq t} \\gamma^{t'-t}r_{t'+1}.$$"
   ]
  },
  {
   "cell_type": "code",
   "execution_count": 12,
   "metadata": {},
   "outputs": [],
   "source": [
    "np.random.seed(SEED)\n",
    "test_rewards = np.random.randint(-10, 10, 100)\n",
    "test_experiences = [hw4pg.Experience(None,None,r,False) for r in test_rewards] \n",
    "test_episode = hw4data.Episode(np.sum(test_rewards), test_experiences)\n",
    "\n",
    "qvals = test_episode.calc_qvals(0.9)\n",
    "qvals = list(qvals)\n",
    "\n",
    "expected_qvals = np.load(os.path.join('tests', 'assets', 'part1_expected_qvals.npy'))\n",
    "for i in range(len(test_rewards)):\n",
    "    test.assertAlmostEqual(expected_qvals[i], qvals[i], delta=1e-3)"
   ]
  },
  {
   "cell_type": "markdown",
   "metadata": {},
   "source": [
    "**TODO**: Complete the implementation of the `from_episodes()` method in the `TrainBatch` class.\n",
    "This will address part 3.\n",
    "\n",
    "Notes:\n",
    "- The `TrainBatchDataset` class provides a generator function that will use the above function to lazily generate batches of training samples and labels on demand.\n",
    "- This allows us to use a standard `PyTorch` dataloader to wrap our Dataset and provide us with parallel data loading for free!\n",
    "  This means we can run multiple environments with multiple agents in separate background processes to generate data for training and thus prevent the data loading bottleneck which is caused by the fact that we must generate full Episodes to train on in order to calculate the q-values.\n",
    "- We'll set the `DataLoader`'s `batch_size` to `None` because we have already implemented custom batching in our dataset.\n",
    "- You can choose the number of worker processes generating data using the `num_workers` parameter in the hyperparams dict. Set `num_workers=0` to disable parallelization."
   ]
  },
  {
   "cell_type": "code",
   "execution_count": 13,
   "metadata": {},
   "outputs": [
    {
     "name": "stdout",
     "output_type": "stream",
     "text": [
      "#0: TrainBatch(states: torch.Size([865, 8]), actions: torch.Size([865]), q_vals: torch.Size([865])), num_episodes: 8)\n",
      "\n",
      "#1: TrainBatch(states: torch.Size([694, 8]), actions: torch.Size([694]), q_vals: torch.Size([694])), num_episodes: 8)\n",
      "\n",
      "#2: TrainBatch(states: torch.Size([796, 8]), actions: torch.Size([796]), q_vals: torch.Size([796])), num_episodes: 8)\n",
      "\n"
     ]
    }
   ],
   "source": [
    "from torch.utils.data import DataLoader\n",
    "\n",
    "hp = hw4.answers.part1_pg_hyperparams()\n",
    "\n",
    "ds = hw4data.TrainBatchDataset(agent_fn, episode_batch_size=8, gamma=0.9)\n",
    "dl = DataLoader(\n",
    "    ds,\n",
    "    batch_size=None,\n",
    "    num_workers=hp['num_workers'],\n",
    "    multiprocessing_context='fork' if hp['num_workers'] > 0 else None\n",
    ")\n",
    "\n",
    "\n",
    "for i, train_batch in enumerate(dl):\n",
    "    states, actions, qvals, reward_mean = train_batch\n",
    "    print(f'#{i}: {train_batch}', end=\"\\n\\n\")\n",
    "    test.assertEqual(states.shape[0], actions.shape[0])\n",
    "    test.assertEqual(qvals.shape[0], actions.shape[0])\n",
    "    test.assertEqual(states.shape[1], env.observation_space.shape[0])\n",
    "    if i > 1:\n",
    "        break"
   ]
  },
  {
   "cell_type": "markdown",
   "metadata": {},
   "source": [
    "### Loss functions"
   ]
  },
  {
   "cell_type": "markdown",
   "metadata": {},
   "source": [
    "As usual, we need a loss function to optimize over.\n",
    "We'll calculate three types of losses:\n",
    "1. The causal vanilla policy gradient loss.\n",
    "1. The policy gradient loss, with a baseline to reduce variance.\n",
    "2. An entropy-based loss whos purpose is to diversify the agent's action selection,\n",
    "   and prevent it from being \"too sure\" about its actions.\n",
    "   This loss will be used together with one of the above losses."
   ]
  },
  {
   "cell_type": "markdown",
   "metadata": {},
   "source": [
    "#### Causal vanilla policy-gradient"
   ]
  },
  {
   "cell_type": "markdown",
   "metadata": {},
   "source": [
    "We have derived the policy-gradient as\n",
    "$$\n",
    "\\grad\\mathcal{L}(\\vec{\\theta}) = \\E[\\tau]{-g(\\tau)\\sum_{t\\geq0} \\grad\\log \\pi_{\\vec{\\theta}}(a_t|s_t)}.\n",
    "$$\n",
    "\n",
    "By writing the discounted reward explicitly and enforcing causality, i.e. the action taken at time $t$ can't affect\n",
    "the reward at time $t'<t$, we can get a slightly lower-variance version of the policy gradient:\n",
    "\n",
    "$$\n",
    "\\grad\\mathcal{L}_{\\text{PG}}(\\vec{\\theta}) = \n",
    "\\E[\\tau]{-\\sum_{t\\geq0} \\left(\\sum_{t'\\geq t} \\gamma^{t'-t}r_{t'+1} \\right)\\grad\\log \\pi_{\\vec{\\theta}}(a_t|s_t)}.\n",
    "$$"
   ]
  },
  {
   "cell_type": "markdown",
   "metadata": {},
   "source": [
    "In practice, the expectation over trajectories is calculated using a Monte-Carlo approach, i.e. simply sampling $N$\n",
    "trajectories and average the term inside the expectation. Therefore, we will use the following estimated version of the policy gradient:\n",
    "\n",
    "$$\n",
    "\\begin{align}\n",
    "\\hat\\grad\\mathcal{L}_{\\text{PG}}(\\vec{\\theta})\n",
    "&=-\\frac{1}{N}\\sum_{i=1}^{N}\\sum_{t\\geq0} \\left(\\sum_{t'\\geq t} \\gamma^{t'-t}r_{i,t'+1} \\right)\\grad\\log \\pi_{\\vec{\\theta}}(a_{i,t}|s_{i,t}) \\\\\n",
    "&=-\\frac{1}{N}\\sum_{i=1}^{N}\\sum_{t\\geq0} \\hat{q}_{i,t} \\grad\\log \\pi_{\\vec{\\theta}}(a_{i,t}|s_{i,t}).\n",
    "\\end{align}\n",
    "$$\n",
    "\n",
    "Note the use of the notation $\\hat{q}_{i,t}$ to represent the estimated action-value at time $t$ in the sampled trajectory $i$.\n",
    "Here $\\hat{q}_{i,t}$ is acting as the weight-term for the policy gradient."
   ]
  },
  {
   "cell_type": "markdown",
   "metadata": {},
   "source": [
    "**TODO**: Complete the implementation of the `VanillaPolicyGradientLoss` class in the `hw4/rl_pg.py` module."
   ]
  },
  {
   "cell_type": "code",
   "execution_count": 14,
   "metadata": {},
   "outputs": [
    {
     "name": "stdout",
     "output_type": "stream",
     "text": [
      "test_batch=TrainBatch(states: torch.Size([375, 8]), actions: torch.Size([375]), q_vals: torch.Size([375])), num_episodes: 4)\n",
      "\n",
      "test_action_scores=\n",
      "tensor([[ 0.8932,  0.4749,  0.8569, -0.7365],\n",
      "        [-0.7853,  1.0901, -0.0665,  1.2573],\n",
      "        [ 0.0867, -1.2705, -0.1987, -0.4103],\n",
      "        ...,\n",
      "        [-0.7778, -2.4352,  0.1117,  0.9482],\n",
      "        [-1.4593, -0.0609, -0.1148,  1.5804],\n",
      "        [ 1.2975, -0.3326, -1.0626,  0.3869]])\n",
      "shape=torch.Size([375, 4])\n",
      "\n",
      "loss_p=tensor(-48.5605)\n"
     ]
    }
   ],
   "source": [
    "# Ensure deterministic run\n",
    "env = gym.make(ENV_NAME)\n",
    "env.seed(SEED)\n",
    "torch.manual_seed(SEED)\n",
    "\n",
    "def agent_fn():\n",
    "    # Use a simple \"network\" here, so that this test doesn't depend on\n",
    "    # your specific PolicyNet implementation\n",
    "    p_net_test = nn.Linear(ENV_N_OBSERVATIONS, ENV_N_ACTIONS, bias=True)\n",
    "    agent = hw4pg.PolicyAgent(env, p_net_test)\n",
    "    return agent\n",
    "\n",
    "dataloader = hw4data.TrainBatchDataset(agent_fn, gamma=0.9, episode_batch_size=4)\n",
    "\n",
    "test_batch = next(iter(dataloader))\n",
    "test_action_scores = torch.randn(len(test_batch), env.action_space.n)\n",
    "print(f\"{test_batch=}\", end='\\n\\n')\n",
    "print(f\"test_action_scores=\\n{test_action_scores}\\nshape={test_action_scores.shape}\", end='\\n\\n')\n",
    "\n",
    "loss_fn_p = hw4pg.VanillaPolicyGradientLoss()\n",
    "loss_p, _ = loss_fn_p(test_batch, test_action_scores)\n",
    "\n",
    "print(f'{loss_p=}')\n",
    "test.assertAlmostEqual(loss_p.item(), -48.560, delta=1e-2)"
   ]
  },
  {
   "cell_type": "markdown",
   "metadata": {},
   "source": [
    "#### Policy-gradient with baseline"
   ]
  },
  {
   "cell_type": "markdown",
   "metadata": {},
   "source": [
    "Another way to reduce the variance of our gradient is to use relative weighting of the log-policy instead of absolute reward values.\n",
    "$$\n",
    "\\hat\\grad\\mathcal{L}_{\\text{BPG}}(\\vec{\\theta})\n",
    "=-\\frac{1}{N}\\sum_{i=1}^{N}\\sum_{t\\geq0} \\left(\\hat{q}_{i,t}-b\\right) \\grad\\log \\pi_{\\vec{\\theta}}(a_{i,t}|s_{i,t}).\n",
    "$$\n",
    "In other words, we don't measure a trajectory's worth by it's total reward, but by how much better that total reward is relative to some\n",
    "expected (\"baseline\") reward value, denoted above by $b$.\n",
    "Note that subtracting a baseline has no effect on the expected value of the policy gradient. It's easy to prove this directly by definition.\n",
    "\n",
    "Here we'll implement a very simple baseline (not optimal in terms of variance reduction): the average of the estimated state-values $\\hat{q}_{i,t}$."
   ]
  },
  {
   "cell_type": "markdown",
   "metadata": {},
   "source": [
    "**TODO**: Complete the implementation of the `BaselinePolicyGradientLoss` class in the `hw4/rl_pg.py` module."
   ]
  },
  {
   "cell_type": "code",
   "execution_count": 15,
   "metadata": {},
   "outputs": [
    {
     "name": "stdout",
     "output_type": "stream",
     "text": [
      "loss_dict={'loss_p': 1.297688364982605, 'baseline': -29.84125518798828}\n"
     ]
    }
   ],
   "source": [
    "# Using the same batch and action_scores from above cell\n",
    "loss_fn_p = hw4pg.BaselinePolicyGradientLoss()\n",
    "loss_p, loss_dict = loss_fn_p(test_batch, test_action_scores)\n",
    "\n",
    "print(f'{loss_dict=}')\n",
    "test.assertAlmostEqual(loss_dict['baseline'], -29.841, delta=1e-2)\n",
    "test.assertAlmostEqual(loss_p.item(), 1.297, delta=1e-2)"
   ]
  },
  {
   "cell_type": "markdown",
   "metadata": {},
   "source": [
    "#### Entropy loss"
   ]
  },
  {
   "cell_type": "markdown",
   "metadata": {},
   "source": [
    "The entropy of a probability distribution (in our case the policy), is\n",
    "$$\n",
    "H(\\pi) = -\\sum_{a} \\pi(a|s)\\log\\pi(a|s).\n",
    "$$\n",
    "The entropy is always positive and obtains it's maximum for a uniform distribution.\n",
    "We'll use the entropy of the policy as a bonus, i.e. we'll try to maximize it.\n",
    "The idea is the prevent the policy distribution from becoming too narrow and thus promote the agent's exploration."
   ]
  },
  {
   "cell_type": "markdown",
   "metadata": {},
   "source": [
    "First, we'll calculate the maximal possible entropy value of the action distribution for a set number of possible actions.\n",
    "This will be used as a normalization term.\n",
    "\n",
    "**TODO**: Complete the implementation of the `calc_max_entropy()` method in the `ActionEntropyLoss` class."
   ]
  },
  {
   "cell_type": "code",
   "execution_count": 16,
   "metadata": {},
   "outputs": [
    {
     "name": "stdout",
     "output_type": "stream",
     "text": [
      "max_entropy =  tensor(1.3863)\n"
     ]
    }
   ],
   "source": [
    "loss_fn_e = hw4pg.ActionEntropyLoss(env.action_space.n)\n",
    "print('max_entropy = ', loss_fn_e.max_entropy)\n",
    "\n",
    "test.assertAlmostEqual(loss_fn_e.max_entropy, 1.38629436, delta=1e-3)"
   ]
  },
  {
   "cell_type": "markdown",
   "metadata": {},
   "source": [
    "**TODO**: Complete the implementation of the `forward()` method in the `ActionEntropyLoss` class."
   ]
  },
  {
   "cell_type": "code",
   "execution_count": 17,
   "metadata": {},
   "outputs": [
    {
     "name": "stdout",
     "output_type": "stream",
     "text": [
      "loss =  tensor(-0.8106)\n"
     ]
    }
   ],
   "source": [
    "loss_e, _ = loss_fn_e(test_batch, test_action_scores)\n",
    "print('loss = ', loss_e)\n",
    "\n",
    "test.assertAlmostEqual(loss_e.item(), -0.8103, delta=1e-2)"
   ]
  },
  {
   "cell_type": "markdown",
   "metadata": {},
   "source": [
    "### Training"
   ]
  },
  {
   "cell_type": "markdown",
   "metadata": {},
   "source": [
    "We'll implement our training procedure as follows:\n",
    "\n",
    "1. Initialize the current policy to be a random policy.\n",
    "1. Sample $N$ trajectories from the environment using the current policy.\n",
    "2. Calculate the estimated $q$-values, $\\hat{q}_{i,t} = \\sum_{t'\\geq t} \\gamma^{t'}r_{i,t'+1}$ for each trajectory $i$.\n",
    "3. Calculate policy gradient estimate $\\hat\\grad\\mathcal{L}(\\vec{\\theta})$ as defined above.\n",
    "4. Perform SGD update $\\vec{\\theta}\\leftarrow\\vec{\\theta}-\\eta\\hat\\grad\\mathcal{L}(\\vec{\\theta})$.\n",
    "5. Repeat from step 2.\n",
    "\n",
    "This is known as the **REINFORCE** algorithm."
   ]
  },
  {
   "cell_type": "markdown",
   "metadata": {},
   "source": [
    "Fortunately, we've already implemented everything we need for steps 1-4 so we need only a bit more code to put it all together.\n",
    "\n",
    "The following block implements a wrapper, `train_pg` to create all the objects we need in order to train our policy gradient model.\n"
   ]
  },
  {
   "cell_type": "code",
   "execution_count": 18,
   "metadata": {},
   "outputs": [],
   "source": [
    "import hw4.answers\n",
    "from functools import partial\n",
    "\n",
    "ENV_NAME = \"Beresheet-v2\"\n",
    "\n",
    "def agent_fn_train(agent_type, p_net, seed, envs_dict):\n",
    "    winfo = torch.utils.data.get_worker_info()\n",
    "    wid = winfo.id if winfo else 0\n",
    "    seed = seed + wid if seed else wid\n",
    "\n",
    "    env = gym.make(ENV_NAME)\n",
    "    envs_dict[wid] = env\n",
    "    env.seed(seed)\n",
    "    np.random.seed(seed)\n",
    "    torch.manual_seed(seed)\n",
    "\n",
    "    return agent_type(env, p_net)\n",
    "\n",
    "def train_rl(agent_type, net_type, loss_fns, hp, seed=None, checkpoints_file=None, **train_kw):\n",
    "    print(f'hyperparams: {hp}')\n",
    "    \n",
    "    envs = {}\n",
    "    p_net = net_type(ENV_N_OBSERVATIONS, ENV_N_ACTIONS, **hp)\n",
    "    p_net.share_memory()\n",
    "    agent_fn = partial(agent_fn_train, agent_type, p_net, seed, envs)\n",
    "    \n",
    "    dataset = hw4data.TrainBatchDataset(agent_fn, hp['batch_size'], hp['gamma'])\n",
    "    dataloader = DataLoader(\n",
    "        dataset, batch_size=None,\n",
    "        num_workers=hp['num_workers'],\n",
    "        multiprocessing_context='fork' if hp['num_workers'] > 0 else None\n",
    "    )\n",
    "    optimizer = optim.Adam(p_net.parameters(), lr=hp['learn_rate'], eps=hp['eps'])\n",
    "    \n",
    "    trainer = hw4pg.PolicyTrainer(p_net, optimizer, loss_fns, dataloader, checkpoints_file)\n",
    "    try:\n",
    "        trainer.train(**train_kw)\n",
    "    except KeyboardInterrupt as e:\n",
    "        print('Training interrupted by user.')\n",
    "    finally:\n",
    "        for env in envs.values():\n",
    "            env.close()\n",
    "\n",
    "    # Include final model state\n",
    "    training_data = trainer.training_data\n",
    "    training_data['model_state'] = p_net.state_dict()\n",
    "    return training_data\n",
    "    \n",
    "def train_pg(baseline=False, entropy=False, **train_kwargs):\n",
    "    hp = hw4.answers.part1_pg_hyperparams()\n",
    "    \n",
    "    loss_fns = []\n",
    "    if baseline:\n",
    "        loss_fns.append(hw4pg.BaselinePolicyGradientLoss())\n",
    "    else:\n",
    "        loss_fns.append(hw4pg.VanillaPolicyGradientLoss())\n",
    "    if entropy:\n",
    "        loss_fns.append(hw4pg.ActionEntropyLoss(ENV_N_ACTIONS, hp['beta']))\n",
    "\n",
    "    return train_rl(hw4pg.PolicyAgent, hw4pg.PolicyNet, loss_fns, hp, **train_kwargs)"
   ]
  },
  {
   "cell_type": "markdown",
   "metadata": {},
   "source": [
    "The `PolicyTrainer` class implements the training loop, collects the losses and rewards and provides some useful checkpointing functionality.\n",
    "The training loop will generate batches of episodes and train on them until either:\n",
    "- The average total reward from the last `running_mean_len` episodes is greater than the `target_reward`, OR\n",
    "- The number of generated episodes reached `max_episodes`.\n",
    "\n",
    "Most of this class is already implemented for you. "
   ]
  },
  {
   "cell_type": "markdown",
   "metadata": {},
   "source": [
    "**TODO**:\n",
    "1. Complete the training loop by implementing the `train_batch()` method of the `PolicyTrainer`.\n",
    "2. Tweak the hyperparameters in the `part1_pg_hyperparams()` function within the `hw4/answers.py` module as needed. You get some sane defaults."
   ]
  },
  {
   "cell_type": "markdown",
   "metadata": {},
   "source": [
    "Let's check whether our model is actually training.\n",
    "We'll try to reach a very low (bad) target reward, just as a sanity check to see that training works.\n",
    "Your model should be able to reach this target reward within a few batches.\n",
    "\n",
    "You can increase the target reward and use this block to manually tweak your model and hyperparameters a few times."
   ]
  },
  {
   "cell_type": "code",
   "execution_count": 30,
   "metadata": {},
   "outputs": [
    {
     "name": "stdout",
     "output_type": "stream",
     "text": [
      "hyperparams: {'batch_size': 16, 'gamma': 0.99, 'beta': 0.3, 'learn_rate': 0.002, 'eps': 1e-08, 'num_workers': 2}\n",
      "=== Training...\n",
      "#1: step=00002876, loss_p=-91.32, m_reward(10)=-107.9 (best=-221.9):   2%|█                                                               | 32/2000 [00:01<01:01, 31.85it/s]\n",
      "\n",
      "=== 🚀 SOLVED - Target reward reached! 🚀\n"
     ]
    }
   ],
   "source": [
    "target_reward = -140 # VERY LOW target\n",
    "train_data = train_pg(target_reward=target_reward, seed=SEED, max_episodes=2000, running_mean_len=10)\n",
    "\n",
    "test.assertGreater(train_data['mean_reward'][-1], target_reward)"
   ]
  },
  {
   "cell_type": "markdown",
   "metadata": {},
   "source": [
    "### Experimenting with different losses"
   ]
  },
  {
   "cell_type": "markdown",
   "metadata": {},
   "source": [
    "We'll now run a few experiments to see the effect of diferent loss functions on the training dynamics. Namely, we'll try:\n",
    "1. Vanilla PG (`vpg`): No baseline, no entropy\n",
    "2. Baseline PG (`bpg`): Baseline, no entropy loss\n",
    "3. Entropy PG (`epg`): No baseline, with entropy loss\n",
    "3. Combined PG (`cpg`): Baseline, with entropy loss"
   ]
  },
  {
   "cell_type": "code",
   "execution_count": 31,
   "metadata": {},
   "outputs": [
    {
     "name": "stdout",
     "output_type": "stream",
     "text": [
      "[ExpConfig(name='vpg', baseline=False, entropy=False),\n",
      " ExpConfig(name='epg', baseline=False, entropy=True),\n",
      " ExpConfig(name='bpg', baseline=True, entropy=False),\n",
      " ExpConfig(name='cpg', baseline=True, entropy=True)]\n"
     ]
    }
   ],
   "source": [
    "from collections import namedtuple\n",
    "from pprint import pprint\n",
    "import itertools as it\n",
    "\n",
    "\n",
    "ExpConfig = namedtuple('ExpConfig', ('name','baseline','entropy'))\n",
    "\n",
    "def exp_configs():\n",
    "    exp_names = ('vpg', 'epg', 'bpg', 'cpg')\n",
    "    z = zip(exp_names, it.product((False, True), (False, True)))\n",
    "    return (ExpConfig(n, b, e) for (n, (b, e)) in z)\n",
    "\n",
    "pprint(list(exp_configs()))"
   ]
  },
  {
   "cell_type": "markdown",
   "metadata": {},
   "source": [
    "We'll save the training data from each experiment for plotting."
   ]
  },
  {
   "cell_type": "code",
   "execution_count": 32,
   "metadata": {},
   "outputs": [],
   "source": [
    "import pickle\n",
    "\n",
    "def dump_training_data(data, filename):\n",
    "    os.makedirs(os.path.dirname(filename), exist_ok=True)\n",
    "    with open(filename, mode='wb') as file:\n",
    "        pickle.dump(data, file)\n",
    "        \n",
    "def load_training_data(filename):\n",
    "    with open(filename, mode='rb') as file:\n",
    "        return pickle.load(file)"
   ]
  },
  {
   "cell_type": "markdown",
   "metadata": {},
   "source": [
    "Let's run the experiments! We'll run each configuration for a fixed number of episodes so that we can compare them.\n",
    "\n",
    "Notes:\n",
    "1. Until your models start working, you can decrease the number of episodes for each experiment, or only run one experiment.\n",
    "2.  The results will be saved in a file. To re-run the experiments, you can set `force_run` to `True`."
   ]
  },
  {
   "cell_type": "code",
   "execution_count": null,
   "metadata": {},
   "outputs": [],
   "source": [
    "import math\n",
    "\n",
    "exp_max_episodes = 4000\n",
    "\n",
    "results = {}\n",
    "training_data_filename = os.path.join('results', f'part1_exp.dat')\n",
    "\n",
    "# Set to True to force re-run (careful! will delete old experiment results)\n",
    "force_run = False\n",
    "\n",
    "# Skip running if results file exists.\n",
    "if os.path.isfile(training_data_filename) and not force_run:\n",
    "    print(f'=== results file {training_data_filename} exists, skipping experiments.')\n",
    "    results = load_training_data(training_data_filename)\n",
    "    \n",
    "else:\n",
    "    for n, b, e in exp_configs():\n",
    "        print(f'=== Experiment {n}')\n",
    "        results[n] = train_pg(baseline=b, entropy=e, max_episodes=exp_max_episodes, post_batch_fn=None)\n",
    "        \n",
    "    dump_training_data(results, training_data_filename)"
   ]
  },
  {
   "cell_type": "code",
   "execution_count": null,
   "metadata": {},
   "outputs": [],
   "source": [
    "def plot_experiment_results(results, fig=None):\n",
    "    if fig is None:\n",
    "        fig, _ = plt.subplots(nrows=2, ncols=2, sharex=True, figsize=(18,12))\n",
    "    for i, plot_type in enumerate(('loss_p', 'baseline', 'loss_e', 'mean_reward')):\n",
    "        ax = fig.axes[i]\n",
    "        for exp_name, exp_res in results.items():\n",
    "            if plot_type not in exp_res:\n",
    "                continue\n",
    "            ax.plot(exp_res['episode_num'], exp_res[plot_type], label=exp_name)\n",
    "        ax.set_title(plot_type)\n",
    "        ax.set_xlabel('episode')\n",
    "        ax.legend()\n",
    "    return fig\n",
    "    \n",
    "experiments_results_fig = plot_experiment_results(results)"
   ]
  },
  {
   "cell_type": "markdown",
   "metadata": {},
   "source": [
    "You should see positive training dynamics in the graphs (reward going up).\n",
    "If you don't, use them to further update your model or hyperparams.\n",
    "\n",
    "To pass the test, you'll need to get a best total mean reward of at least 10 in the fixed number of epochs using the combined loss.\n",
    "It's possible to get much higher (over 100)."
   ]
  },
  {
   "cell_type": "code",
   "execution_count": null,
   "metadata": {},
   "outputs": [],
   "source": [
    "best_cpg_mean_reward = max(results['cpg']['mean_reward'])\n",
    "print(f'Best CPG mean reward: {best_cpg_mean_reward:.2f}')\n",
    "\n",
    "test.assertGreater(best_cpg_mean_reward, 10)"
   ]
  },
  {
   "cell_type": "markdown",
   "metadata": {},
   "source": [
    "Now let's take a look at a gameplay video of our `cpg` model after the short training!"
   ]
  },
  {
   "cell_type": "code",
   "execution_count": null,
   "metadata": {},
   "outputs": [],
   "source": [
    "hp = hw4.answers.part1_pg_hyperparams()\n",
    "p_net_cpg = hw4pg.PolicyNet.build_for_env(env, **hp)\n",
    "p_net_cpg.load_state_dict(results['cpg']['model_state'])\n",
    "\n",
    "env, n_steps, reward = hw4pg.PolicyAgent.monitor_episode(ENV_NAME, p_net_cpg)\n",
    "print(f'{n_steps} steps, total reward: {reward:.2f}')\n",
    "show_monitor_video(env)"
   ]
  },
  {
   "cell_type": "markdown",
   "metadata": {},
   "source": [
    "## Advantage Actor-Critic (AAC)\n",
    "<a id=part1_2></a>"
   ]
  },
  {
   "cell_type": "markdown",
   "metadata": {},
   "source": [
    "We have seen that the policy-gradient loss can be interpreted as a log-likelihood of the policy term\n",
    "(selecting a specific action at a specific state), weighted by the future rewards of that choice of action.\n",
    "\n",
    "However, naïvely weighting by rewards has significant drawbacks in terms of the variance of the resulting gradient.\n",
    "We addressed this by adding a simple baseline term which represented our \"expected reward\" so that we increase probability of actions\n",
    "leading to trajectories which exceed this expectation and vice-versa.\n",
    "\n",
    "In this part we'll explore a more powerful baseline, which is the idea behind the AAC method."
   ]
  },
  {
   "cell_type": "markdown",
   "metadata": {},
   "source": [
    "### The advantage function"
   ]
  },
  {
   "cell_type": "markdown",
   "metadata": {},
   "source": [
    "Recall the definition of the state-value function $v_{\\pi}(s)$ and action-value function $q_{\\pi}(s,a)$:\n",
    "\n",
    "$$\n",
    "\\begin{align}\n",
    "v_{\\pi}(s) &= \\E{g(\\tau)|s_0 = s,\\pi} \\\\\n",
    "q_{\\pi}(s,a) &= \\E{g(\\tau)|s_0 = s,a_0=a,\\pi}.\n",
    "\\end{align}\n",
    "$$\n",
    "\n",
    "Both these functions represent the value of the state $s$. However, $v_\\pi$ averages over the first action according to the policy,\n",
    "while $q_\\pi$ fixes the first action and then continues according to the policy."
   ]
  },
  {
   "cell_type": "markdown",
   "metadata": {},
   "source": [
    "Their difference is known as the **advantage function**:\n",
    "$$\n",
    "a_\\pi(s,a) = q_\\pi(s,a)-v_\\pi(s).\n",
    "$$\n",
    "\n",
    "If $a_\\pi(s,a)>0$ it means that it's better (in expectation) to take action $a$ in state $s$ compared to the average action.\n",
    "In other words, $a_\\pi(s,a)$ represents the *advantage* of using action $a$ in state $s$ compared to the others."
   ]
  },
  {
   "cell_type": "markdown",
   "metadata": {},
   "source": [
    "So far we have used an estimate for $q_\\pi$ as our weighting term for the log-policy, with a fixed baseline per batch.\n",
    "\n",
    "$$\n",
    "\\hat\\grad\\mathcal{L}_{\\text{BPG}}(\\vec{\\theta})\n",
    "=-\\frac{1}{N}\\sum_{i=1}^{N}\\sum_{t\\geq0} \\left(\\hat{q}_{i,t}-b\\right) \\grad\\log \\pi_{\\vec{\\theta}}(a_{i,t}|s_{i,t}).\n",
    "$$\n"
   ]
  },
  {
   "cell_type": "markdown",
   "metadata": {},
   "source": [
    "Now, we will use the state value as a baseline, so that an estimate of the advantage function is our weighting term:\n",
    "\n",
    "$$\n",
    "\\hat\\grad\\mathcal{L}_{\\text{AAC}}(\\vec{\\theta})\n",
    "=-\\frac{1}{N}\\sum_{i=1}^{N}\\sum_{t\\geq0} \\left(\\hat{q}_{i,t}-v_\\pi(s_t)\\right) \\grad\\log \\pi_{\\vec{\\theta}}(a_{i,t}|s_{i,t}).\n",
    "$$\n",
    "\n",
    "Intuitively, using the advantage function makes sense because it means we're weighting our policy's actions according to\n",
    "how advantageous they are compared to other possible actions."
   ]
  },
  {
   "cell_type": "markdown",
   "metadata": {},
   "source": [
    "But how will we know $v_\\pi(s)$? We'll learn it of course, using another neural network.\n",
    "This is known as actor-critic learning. We simultaneously learn the policy (actor) and the value of states (critic).\n",
    "We'll treat it as a regression task: given a state $s_t$, our state-value network will output $\\hat{v}_\\pi(s_t)$,\n",
    "an estimate of the actual unknown state-value.\n",
    "Our regression targets will be the discounted rewards, $\\hat{q}_{i,t}$ (see question 2),\n",
    "and we can use a simple MSE as the loss function,\n",
    "$$\n",
    "\\mathcal{L}_{\\text{SV}} = \\frac{1}{N}\\sum_{i=1}^{N}\\sum_{t\\geq0}\\left(\\hat{v}_\\pi(s_t) - \\hat{q}_{i,t}\\right)^2.\n",
    "$$\n"
   ]
  },
  {
   "cell_type": "markdown",
   "metadata": {},
   "source": [
    "### Implementation"
   ]
  },
  {
   "cell_type": "markdown",
   "metadata": {},
   "source": [
    "We'll build heavily on our implementation of the regular policy-gradient method, and just add a new model class and a new loss class, with a small modification to the agent."
   ]
  },
  {
   "cell_type": "markdown",
   "metadata": {},
   "source": [
    "Let's start with the model. It will accept a state, and return action scores (as before), but also the value of that state.\n",
    "You can experiment with a dual-head network that has a shared base, or implement two separate parts within the network.\n",
    "\n",
    "**TODO**:\n",
    "1. Implement the model as the `AACPolicyNet` class in the `hw4/rl_ac.py` module.\n",
    "1. Set the hyperparameters in the `part1_aac_hyperparams()` function of the `hw4.answers` module."
   ]
  },
  {
   "cell_type": "code",
   "execution_count": null,
   "metadata": {},
   "outputs": [],
   "source": [
    "import hw4.rl_ac as hw4ac\n",
    "\n",
    "hp = hw4.answers.part1_aac_hyperparams()\n",
    "pv_net = hw4ac.AACPolicyNet.build_for_env(env, device, **hp)\n",
    "pv_net"
   ]
  },
  {
   "cell_type": "markdown",
   "metadata": {},
   "source": [
    "**TODO**: Complete the implementation of the agent class, `AACPolicyAgent`, in the `hw4/rl_ac.py` module."
   ]
  },
  {
   "cell_type": "code",
   "execution_count": null,
   "metadata": {},
   "outputs": [],
   "source": [
    "agent = hw4ac.AACPolicyAgent(env, pv_net, device)\n",
    "exp = agent.step()\n",
    "\n",
    "test.assertIsInstance(exp, hw4pg.Experience)\n",
    "print(exp)"
   ]
  },
  {
   "cell_type": "markdown",
   "metadata": {},
   "source": [
    "**TODO**: Implement the AAC loss function as the class `AACPolicyGradientLoss` in the `hw4/rl_ac.py` module."
   ]
  },
  {
   "cell_type": "code",
   "execution_count": null,
   "metadata": {},
   "outputs": [],
   "source": [
    "loss_fn_aac = hw4ac.AACPolicyGradientLoss(delta=1.)\n",
    "test_state_values = torch.ones(test_action_scores.shape[0], 1)\n",
    "loss_t, loss_dict = loss_fn_aac(test_batch, (test_action_scores, test_state_values))\n",
    "\n",
    "print(f'{loss_dict=}')\n",
    "test.assertAlmostEqual(loss_dict['adv_m'], -30.841, delta=1e-2)\n",
    "test.assertAlmostEqual(loss_t.item(), 1466.830, delta=1e-2)"
   ]
  },
  {
   "cell_type": "markdown",
   "metadata": {},
   "source": [
    "### Experimentation"
   ]
  },
  {
   "cell_type": "markdown",
   "metadata": {},
   "source": [
    "Let's run the same experiment as before, but with the AAC method and compare the results."
   ]
  },
  {
   "cell_type": "code",
   "execution_count": null,
   "metadata": {},
   "outputs": [],
   "source": [
    "def train_aac(baseline=False, entropy=False, **train_kwargs):\n",
    "    hp = hw4.answers.part1_aac_hyperparams()\n",
    "    loss_fns = [hw4ac.AACPolicyGradientLoss(hp['delta']), hw4pg.ActionEntropyLoss(ENV_N_ACTIONS, hp['beta'])]\n",
    "    return train_rl(hw4ac.AACPolicyAgent, hw4ac.AACPolicyNet, loss_fns, hp, **train_kwargs)"
   ]
  },
  {
   "cell_type": "code",
   "execution_count": null,
   "metadata": {},
   "outputs": [],
   "source": [
    "training_data_filename = os.path.join('results', f'part1_exp_aac.dat')\n",
    "\n",
    "# Set to True to force re-run (careful, will delete old experiment results)\n",
    "force_run = False\n",
    "\n",
    "if os.path.isfile(training_data_filename) and not force_run:\n",
    "    print(f'=== results file {training_data_filename} exists, skipping experiments.')\n",
    "    results_aac = load_training_data(training_data_filename)\n",
    "    \n",
    "else:\n",
    "    print(f'=== Running AAC experiment')\n",
    "    training_data = train_aac(max_episodes=exp_max_episodes)\n",
    "    results_aac = dict(aac=training_data)\n",
    "    dump_training_data(results_aac, training_data_filename)"
   ]
  },
  {
   "cell_type": "code",
   "execution_count": null,
   "metadata": {},
   "outputs": [],
   "source": [
    "experiments_results_fig = plot_experiment_results(results)\n",
    "plot_experiment_results(results_aac, fig=experiments_results_fig);"
   ]
  },
  {
   "cell_type": "markdown",
   "metadata": {},
   "source": [
    "You should get better results with the AAC method, so this time the bar is higher (again, you should aim for a mean reward of 100+).\n",
    "Compare the graphs with combined PG method and see if they make sense."
   ]
  },
  {
   "cell_type": "code",
   "execution_count": null,
   "metadata": {},
   "outputs": [],
   "source": [
    "best_aac_mean_reward = max(results_aac['aac']['mean_reward'])\n",
    "print(f'Best AAC mean reward: {best_aac_mean_reward:.2f}')\n",
    "\n",
    "test.assertGreater(best_aac_mean_reward, 50)"
   ]
  },
  {
   "cell_type": "markdown",
   "metadata": {},
   "source": [
    "### Final model training and visualization"
   ]
  },
  {
   "cell_type": "markdown",
   "metadata": {},
   "source": [
    "Now, using your best model and hyperparams, let's train model for much longer and see the performance.\n",
    "Just for fun, we'll also visualize an episode every now and then so that we can see how well the agent is playing."
   ]
  },
  {
   "cell_type": "markdown",
   "metadata": {},
   "source": [
    "**TODO**:\n",
    "- Run the following block to train.\n",
    "- Tweak model or hyperparams as necessary.\n",
    "- Aim for high mean reward, at least 150+. It's possible to get over 200.\n",
    "- When training is done and you're satisfied with the model's outputs, rename the checkpoint file by adding `_final` to the file name.\n",
    "  This will cause the block to skip training and instead load your saved model when running the homework submission script.\n",
    "  Note that your submission zip file will not include the checkpoint file. This is OK."
   ]
  },
  {
   "cell_type": "code",
   "execution_count": null,
   "metadata": {},
   "outputs": [],
   "source": [
    "import IPython.display\n",
    "\n",
    "CHECKPOINTS_FILE = f'checkpoints/{ENV_NAME}-ac.dat'\n",
    "CHECKPOINTS_FILE_FINAL = f'checkpoints/{ENV_NAME}-ac_final.dat'\n",
    "TARGET_REWARD = 125\n",
    "MAX_EPISODES = 15_000\n",
    "\n",
    "def post_batch_fn(batch_idx, p_net, batch, print_every=20, final=False):\n",
    "    if not final and batch_idx % print_every != 0:\n",
    "        return\n",
    "    env, n_steps, reward = hw4ac.AACPolicyAgent.monitor_episode(ENV_NAME, p_net)\n",
    "    html = show_monitor_video(env, width=\"500\")\n",
    "    IPython.display.clear_output(wait=True)\n",
    "    print(f'Monitor@#{batch_idx}: n_steps={n_steps}, total_reward={reward:.3f}, final={final}')\n",
    "    IPython.display.display_html(html)\n",
    "    \n",
    "    \n",
    "if os.path.isfile(CHECKPOINTS_FILE_FINAL):\n",
    "    print(f'=== {CHECKPOINTS_FILE_FINAL} exists, skipping training...')\n",
    "    checkpoint_data = torch.load(CHECKPOINTS_FILE_FINAL)\n",
    "    hp = hw4.answers.part1_aac_hyperparams()\n",
    "    pv_net = hw4ac.AACPolicyNet.build_for_env(env, **hp)\n",
    "    pv_net.load_state_dict(checkpoint_data['params'])\n",
    "    print(f'=== Running best model...')\n",
    "    env, n_steps, reward = hw4ac.AACPolicyAgent.monitor_episode(ENV_NAME, pv_net)\n",
    "    print(f'=== Best model ran for {n_steps} steps. Total reward: {reward:.2f}')\n",
    "    IPython.display.display_html(show_monitor_video(env))\n",
    "    best_mean_reward = checkpoint_data[\"best_mean_reward\"]\n",
    "else:\n",
    "    print(f'=== Starting training...')\n",
    "    train_data = train_aac(TARGET_REWARD, max_episodes=MAX_EPISODES,\n",
    "                           seed=None, checkpoints_file=CHECKPOINTS_FILE, post_batch_fn=post_batch_fn)\n",
    "    print(f'=== Done, ', end='')\n",
    "    best_mean_reward = train_data[\"best_mean_reward\"][-1]\n",
    "    print(f'num_episodes={train_data[\"episode_num\"][-1]}, best_mean_reward={best_mean_reward:.1f}')\n",
    "          \n",
    "test.assertGreaterEqual(best_mean_reward, TARGET_REWARD)"
   ]
  },
  {
   "cell_type": "markdown",
   "metadata": {
    "tags": []
   },
   "source": [
    "## Questions\n",
    "<a id=part1_3></a>"
   ]
  },
  {
   "cell_type": "markdown",
   "metadata": {},
   "source": [
    "**TODO**: Answer the following questions. Write your answers in the appropriate variables in the module `hw4/answers.py`."
   ]
  },
  {
   "cell_type": "code",
   "execution_count": null,
   "metadata": {},
   "outputs": [],
   "source": [
    "from cs236781.answers import display_answer\n",
    "import hw4.answers"
   ]
  },
  {
   "cell_type": "markdown",
   "metadata": {},
   "source": [
    "### Question 1\n",
    "\n",
    "Explain qualitatively why subtracting a baseline in the policy-gradient helps reduce it's variance.\n",
    "Specifically, give an example where it helps."
   ]
  },
  {
   "cell_type": "code",
   "execution_count": null,
   "metadata": {},
   "outputs": [],
   "source": [
    "display_answer(hw4.answers.part1_q1)"
   ]
  },
  {
   "cell_type": "markdown",
   "metadata": {},
   "source": [
    "### Question 2\n",
    "\n",
    "In AAC, when using the estimated q-values as regression targets for our state-values, why do we get a valid approximation?\n",
    "Hint: how is $v_\\pi(s)$ expressed in terms of $q_\\pi(s,a)$?"
   ]
  },
  {
   "cell_type": "code",
   "execution_count": null,
   "metadata": {},
   "outputs": [],
   "source": [
    "display_answer(hw4.answers.part1_q2)"
   ]
  },
  {
   "cell_type": "markdown",
   "metadata": {},
   "source": [
    "### Question 3\n",
    "\n",
    "1. Analyze and explain the graphs you got in first experiment run.\n",
    "2. Compare the experiment graphs you got with the AAC method to the regular PG method (`cpg`)."
   ]
  },
  {
   "cell_type": "code",
   "execution_count": null,
   "metadata": {
    "tags": []
   },
   "outputs": [],
   "source": [
    "display_answer(hw4.answers.part1_q3)"
   ]
  }
 ],
 "metadata": {
  "kernelspec": {
   "display_name": "Python 3 (ipykernel)",
   "language": "python",
   "name": "python3"
  },
  "language_info": {
   "codemirror_mode": {
    "name": "ipython",
    "version": 3
   },
   "file_extension": ".py",
   "mimetype": "text/x-python",
   "name": "python",
   "nbconvert_exporter": "python",
   "pygments_lexer": "ipython3",
   "version": "3.8.12"
  }
 },
 "nbformat": 4,
 "nbformat_minor": 4
}
