{
 "cells": [
  {
   "cell_type": "markdown",
   "metadata": {},
   "source": [
    "$$\n",
    "\\newcommand{\\mat}[1]{\\boldsymbol {#1}}\n",
    "\\newcommand{\\mattr}[1]{\\boldsymbol {#1}^\\top}\n",
    "\\newcommand{\\matinv}[1]{\\boldsymbol {#1}^{-1}}\n",
    "\\newcommand{\\vec}[1]{\\boldsymbol {#1}}\n",
    "\\newcommand{\\vectr}[1]{\\boldsymbol {#1}^\\top}\n",
    "\\newcommand{\\rvar}[1]{\\mathrm {#1}}\n",
    "\\newcommand{\\rvec}[1]{\\boldsymbol{\\mathrm{#1}}}\n",
    "\\newcommand{\\diag}{\\mathop{\\mathrm {diag}}}\n",
    "\\newcommand{\\set}[1]{\\mathbb {#1}}\n",
    "\\newcommand{\\cset}[1]{\\mathcal{#1}}\n",
    "\\newcommand{\\norm}[1]{\\left\\lVert#1\\right\\rVert}\n",
    "\\newcommand{\\pderiv}[2]{\\frac{\\partial #1}{\\partial #2}}\n",
    "\\newcommand{\\bb}[1]{\\boldsymbol{#1}}\n",
    "\\newcommand{\\E}[2][]{\\mathbb{E}_{#1}\\left[#2\\right]}\n",
    "\\newcommand{\\ip}[3]{\\left<#1,#2\\right>_{#3}}\n",
    "\\newcommand{\\given}[]{\\,\\middle\\vert\\,}\n",
    "\\newcommand{\\DKL}[2]{\\cset{D}_{\\text{KL}}\\left(#1\\,\\Vert\\, #2\\right)}\n",
    "\\newcommand{\\grad}[]{\\nabla}\n",
    "$$\n",
    "# Part 1: Deep Reinforcement Learning\n",
    "<a id=part1></a>"
   ]
  },
  {
   "cell_type": "markdown",
   "metadata": {},
   "source": [
    "In the tutorial we have seen value-based reinforcement learning, in which we learn to approximate the action-value function $q(s,a)$.\n",
    "\n",
    "In this exercise we'll explore a different approach, directly learning the agent's policy distribution, $\\pi(a|s)$\n",
    "by using *policy gradients*, in order to safely land on the moon!"
   ]
  },
  {
   "cell_type": "code",
   "execution_count": 1,
   "metadata": {},
   "outputs": [],
   "source": [
    "%load_ext autoreload\n",
    "%autoreload 2\n",
    "%matplotlib inline\n",
    "\n",
    "import unittest\n",
    "import os\n",
    "import sys\n",
    "import pathlib\n",
    "import urllib\n",
    "import shutil\n",
    "import re\n",
    "\n",
    "import numpy as np\n",
    "import torch\n",
    "import torch.nn as nn\n",
    "import torch.optim as optim\n",
    "import matplotlib.pyplot as plt"
   ]
  },
  {
   "cell_type": "code",
   "execution_count": 2,
   "metadata": {},
   "outputs": [
    {
     "name": "stdout",
     "output_type": "stream",
     "text": [
      "Using device: cpu\n"
     ]
    }
   ],
   "source": [
    "test = unittest.TestCase()\n",
    "plt.rcParams.update({'font.size': 12})\n",
    "device = torch.device('cuda' if torch.cuda.is_available() else 'cpu')\n",
    "\n",
    "# Prefer CPU, GPU won't help much in this assignment\n",
    "device = 'cpu'\n",
    "print('Using device:', device)\n",
    "\n",
    "# Seed for deterministic tests\n",
    "SEED = 42"
   ]
  },
  {
   "cell_type": "markdown",
   "metadata": {},
   "source": [
    "Some technical notes before we begin:\n",
    "\n",
    "- This part does not require a GPU. We won't need large models, and the computation bottleneck will be the generation of episodes to train on.\n",
    "- In order to run this notebook on the server, you must prepend the `xvfb-run` command to create a virtual screen. For example,\n",
    "    - to run this notebook with `srun` do\n",
    "        ```\n",
    "        srun -c2 --gres=gpu:1 xvfb-run -a -s \"-screen 0 1440x900x24\" python main.py run-nb <filename>\n",
    "        ```\n",
    "    - To run the submission script, do\n",
    "        ```\n",
    "        srun -c2 xvfb-run -a -s \"-screen 0 1440x900x24\" python main.py prepare-submission ...\n",
    "        ```\n",
    "    - note that we have already included the `xvfb-run` command inside the `jupyter-lab.sh` script, so you can use it as usual with `srun`.\n",
    "    and so on.\n",
    "- The OpenAI `gym` library is not officially supported on windows. However it should be possible to install and run the necessary environment for this exercise. However, we cannot provide you with technical support for this. If you have trouble installing locally, we suggest running on the course server.\n",
    "- When running the `gym` environment locally (i.e. not on the course server), an interactive window should appear, showing you the gameplay. There's currently a known issue when running this through jupyter: the window may remain open and seem stuck after the episode completes. If it happens, this is OK, you can keep running the notebook and the rest of the cells wont be affected. The Window will close properly when you shut down the kernel."
   ]
  },
  {
   "cell_type": "markdown",
   "metadata": {},
   "source": [
    "## Policy gradients\n",
    "<a id=part1_1></a>"
   ]
  },
  {
   "cell_type": "markdown",
   "metadata": {},
   "source": [
    "Recall from the tutorial that we define the **policy** of an agent as the conditional distribution,\n",
    "$$\n",
    "\\pi(a|s) = \\Pr(a_t=a\\vert s_t=s),\n",
    "$$\n",
    "which defines how likely the agent is to take action $a$ at state $s$.\n",
    "\n",
    "Furthermore we define the action-value function,\n",
    "$$\n",
    "q_{\\pi}(s,a) = \\E{g_t(\\tau)|s_t = s,a_t=a,\\pi}\n",
    "$$\n",
    "where \n",
    "$$\n",
    "g_t(\\tau) = r_{t+1}+\\gamma r_{t+2} + \\dots = \\sum_{k=0}^{\\infty} \\gamma^k r_{t+1+k},\n",
    "$$\n",
    "is the total discounted reward of a specific trajectory $\\tau$ from time $t$, and the expectation in $q$ is over all possible\n",
    "trajectories,\n",
    "$\n",
    "\\tau=\\left\\{ (s_0,a_0,r_1,s_1), \\dots (s_T,a_T,r_{T+1},s_{T+1}) \\right\\}.\n",
    "$"
   ]
  },
  {
   "cell_type": "markdown",
   "metadata": {},
   "source": [
    "In the tutorial we saw that we can learn a value function starting with some random function and\n",
    "updating it iteratively by using the **Bellman optimality equation**.\n",
    "Given that we have some action-value function, we can immediately create a policy based on that\n",
    "by simply selecting an action which maximize the action-value at the current state, i.e.\n",
    "$$\n",
    "\\pi(a|s) =\n",
    "\\begin{cases}\n",
    "1, & a = \\arg\\max_{a'\\in\\cset{A}} q(s,a') \\\\\n",
    "0, & \\text{else}\n",
    "\\end{cases}.\n",
    "$$\n",
    "This is called $q$-learning. This approach aims to obtain a policy indirectly through the action-value function.\n",
    "Yet, in most cases we don't actually care about knowing the value of particular states,\n",
    "since all we need is a good policy for our agent. \n",
    "\n",
    "Here we'll take a different approach and learn a policy distribution $\\pi(a|s)$ directly - by using **policy gradients**."
   ]
  },
  {
   "cell_type": "markdown",
   "metadata": {},
   "source": [
    "### Formalism"
   ]
  },
  {
   "cell_type": "markdown",
   "metadata": {},
   "source": [
    "We define a parametric policy, $\\pi_\\vec{\\theta}(a|s)$, and maximize total discounted reward (or minimize the negative reward):\n",
    "$$\n",
    "\\mathcal{L}(\\vec{\\theta})=\\E[\\tau]{-g(\\tau)|\\pi_\\vec{\\theta}} = -\\int g(\\tau)p(\\tau|\\vec{\\theta})d\\tau,\n",
    "$$\n",
    "where $p(\\tau|\\vec{\\theta})$ is the probability of a specific trajectory $\\tau$ under the policy defined by $\\vec{\\theta}$.\n"
   ]
  },
  {
   "cell_type": "markdown",
   "metadata": {},
   "source": [
    "Since we want to find the parameters $\\vec{\\theta}$ which minimize $\\mathcal{L}(\\vec{\\theta})$, we'll compute the gradient w.r.t. $\\vec{\\theta}$:\n",
    "$$\n",
    "\\grad\\mathcal{L}(\\vec{\\theta}) = -\\int g(\\tau)\\grad p(\\tau|\\vec{\\theta})d\\tau.\n",
    "$$\n",
    "\n",
    "Unfortunately, if we try to write $p(\\tau|\\vec{\\theta})$ explicitly,\n",
    "we find that computing it's gradient with respect to $\\vec{\\theta}$ is\n",
    "quite intractable due to a huge product of terms depending on $\\vec{\\theta}$:\n",
    "$$\n",
    "p(\\tau|\\vec{\\theta})=p\\left(\\left\\{ (s_t,a_t,r_{t+1},s_{t+1})\\right\\}_{t\\geq0}\\given\\vec{\\theta}\\right)\n",
    "=p(s_0)\\prod_{t\\geq0} \\pi_{\\vec{\\theta}}(a_t|s_t)p(s_{t+1}|s_t,a_t).\n",
    "$$"
   ]
  },
  {
   "cell_type": "markdown",
   "metadata": {},
   "source": [
    "However, by using the fact that $\\grad_{x}\\log(f(x))=\\frac{\\grad_{x}f(x)}{f(x)}$, we can convert the product into a sum:\n",
    "$$\n",
    "\\begin{align}\n",
    "\\grad\\mathcal{L}(\\vec{\\theta})\n",
    "&= -\\int g(\\tau)\\grad p(\\tau|\\vec{\\theta})d\\tau\n",
    "= -\\int g(\\tau)\\frac{\\grad p(\\tau|\\vec{\\theta})}{p(\\tau|\\vec{\\theta})}p(\\tau|\\vec{\\theta})d\\tau \\\\\n",
    "&= -\\int g(\\tau)\\grad\\log\\left(p(\\tau|\\vec{\\theta})\\right)p(\\tau|\\vec{\\theta})d\\tau \\\\\n",
    "&= -\\int g(\\tau)\\grad\\log\\left( p(s_0)\\prod_{t\\geq0} \\pi_{\\vec{\\theta}}(a_t|s_t)p(s_{t+1}|s_t,a_t) \\right)\n",
    "p(\\tau|\\vec{\\theta})d\\tau \\\\\n",
    "&= -\\int g(\\tau)\\grad\\left( \\log p(s_0) + \\sum_{t\\geq0} \\log \\pi_{\\vec{\\theta}}(a_t|s_t) + \n",
    "\\sum_{t\\geq0}\\log p(s_{t+1}|s_t,a_t) \\right) p(\\tau|\\vec{\\theta})d\\tau \\\\\n",
    "&= -\\int g(\\tau)\\sum_{t\\geq0} \\grad\\log \\pi_{\\vec{\\theta}}(a_t|s_t) p(\\tau|\\vec{\\theta})d\\tau \\\\\n",
    "&= \\E[\\tau]{-g(\\tau)\\sum_{t\\geq0} \\grad\\log \\pi_{\\vec{\\theta}}(a_t|s_t)}.\n",
    "\\end{align}\n",
    "$$"
   ]
  },
  {
   "cell_type": "markdown",
   "metadata": {},
   "source": [
    "This is the \"vanilla\" version of the policy gradient. We can interpret is as a weighted log-likelihood function.\n",
    "The log-policy is the log-likelihood term we wish to maximize and the total discounted reward acts as a weight: high-return positive\n",
    "trajectories will cause the probability of actions taken during them to increase, and negative-return trajectories will cause the\n",
    "probabilities of actions taken to decrease.\n",
    "\n",
    "In the following figures we see three trajectories: high-return positive-reward (green), low-return positive-reward (yellow) and negative-return (red) and the action probabilities along the trajectories after the update. Credit: Sergey Levine.\n",
    "\n",
    "|<strong></strong>||\n",
    "|-----| ----|\n",
    "|<img src=\"imgs/pg1.png\" height=\"200\">|<img src=\"imgs/pg2.png\" height=\"200\">|\n"
   ]
  },
  {
   "cell_type": "markdown",
   "metadata": {},
   "source": [
    "The major drawback of the policy-gradient is it's high variance, which causes erratic optimization behavior and therefore slow convergence.\n",
    "One reason for this is that the log-policy weight term, $g(\\tau)$ can vary wildly between different trajectories, even if they're similar in\n",
    "actions. Later on we'll implement the loss and explore some methods of variance reduction."
   ]
  },
  {
   "cell_type": "markdown",
   "metadata": {},
   "source": [
    "### Landing on the moon with policy gradients"
   ]
  },
  {
   "cell_type": "markdown",
   "metadata": {},
   "source": [
    "In the spirit of the recent achievements of the Israeli space industry,\n",
    "we'll apply our reinforcement learning skills to solve a simple game called **LunarLander**.\n",
    "\n",
    "This game is available as an `environment` in OpenAI `gym`.\n",
    "\n",
    "<video loop autoplay src=\"http://gym.openai.com/videos/2019-04-06--My9IiAbqha/LunarLander-v2/original.mp4\" />"
   ]
  },
  {
   "cell_type": "markdown",
   "metadata": {},
   "source": [
    "In this environment, you need to control the lander and get it to land safely on the moon.\n",
    "To do so, you must apply bottom, right or left thrusters (each are either fully on or fully off)\n",
    "and get it to land within the designated zone as quickly as possible and with minimal wasted fuel."
   ]
  },
  {
   "cell_type": "code",
   "execution_count": 3,
   "metadata": {},
   "outputs": [],
   "source": [
    "import gym\n",
    "\n",
    "# Just for fun :) ... but also to re-define the default max number of steps\n",
    "ENV_NAME = 'Beresheet-v2'\n",
    "MAX_EPISODE_STEPS = 300\n",
    "if ENV_NAME not in gym.envs.registry.env_specs:\n",
    "    gym.register(\n",
    "        id=ENV_NAME,\n",
    "        entry_point='gym.envs.box2d:LunarLander',\n",
    "        max_episode_steps=MAX_EPISODE_STEPS,\n",
    "        reward_threshold=200,\n",
    "    )"
   ]
  },
  {
   "cell_type": "code",
   "execution_count": 4,
   "metadata": {},
   "outputs": [
    {
     "name": "stdout",
     "output_type": "stream",
     "text": [
      "<TimeLimit<LunarLander<Beresheet-v2>>>\n",
      "observations space: Box([-inf -inf -inf -inf -inf -inf -inf -inf], [inf inf inf inf inf inf inf inf], (8,), float32)\n",
      "action space: Discrete(4)\n"
     ]
    }
   ],
   "source": [
    "import gym\n",
    "\n",
    "env = gym.make(ENV_NAME)\n",
    "\n",
    "print(env)\n",
    "print(f'observations space: {env.observation_space}')\n",
    "print(f'action space: {env.action_space}')\n",
    "\n",
    "ENV_N_ACTIONS = env.action_space.n\n",
    "ENV_N_OBSERVATIONS = env.observation_space.shape[0]"
   ]
  },
  {
   "cell_type": "markdown",
   "metadata": {},
   "source": [
    "The observations at each step is the Lander's position, velocity, angle, angular velocity and ground contact state.\n",
    "The actions are no-op, fire left truster, bottom thruster and right thruster.\n",
    "\n",
    "You are **highly encouraged** to read the [documentation](https://github.com/openai/gym/blob/master/gym/envs/box2d/lunar_lander.py) in the source code of the `LunarLander` environment to understand the reward system,\n",
    "and see how the actions and observations are created."
   ]
  },
  {
   "cell_type": "markdown",
   "metadata": {},
   "source": [
    "### Policy network and Agent"
   ]
  },
  {
   "cell_type": "markdown",
   "metadata": {},
   "source": [
    "Let's start with our policy-model. This will be a simple neural net, which should take an observation and return a score for each possible action."
   ]
  },
  {
   "cell_type": "markdown",
   "metadata": {},
   "source": [
    "**TODO**:\n",
    "1. Implement all methods in the `PolicyNet` class in the `hw4/rl_pg.py` module.\n",
    "   Start small. A simple MLP with a few hidden layers is a good starting point. You can come back and change it later based on the the experiments.  \n",
    "   Notice that we'll use the `build_for_env` method to instantiate a `PolicyNet` based on the configuration of a given environment.\n",
    "2. If you need hyperparameters to configure your model (e.g. number of hidden layers, sizes, etc.), add them in `part1_pg_hyperparams()` in `hw4/answers.py`."
   ]
  },
  {
   "cell_type": "code",
   "execution_count": 5,
   "metadata": {},
   "outputs": [
    {
     "data": {
      "text/plain": [
       "PolicyNet(\n",
       "  (pnn): Sequential(\n",
       "    (0): Linear(in_features=8, out_features=256, bias=True)\n",
       "    (1): ReLU()\n",
       "    (2): Linear(in_features=256, out_features=256, bias=True)\n",
       "    (3): ReLU()\n",
       "    (4): Linear(in_features=256, out_features=4, bias=True)\n",
       "  )\n",
       ")"
      ]
     },
     "execution_count": 5,
     "metadata": {},
     "output_type": "execute_result"
    }
   ],
   "source": [
    "import hw4.rl_pg as hw4pg\n",
    "import hw4.answers\n",
    "\n",
    "hp = hw4.answers.part1_pg_hyperparams()\n",
    "\n",
    "# You can add keyword-args to this function which will be populated from the\n",
    "# hyperparameters dict.\n",
    "p_net = hw4pg.PolicyNet.build_for_env(env, device, **hp)\n",
    "p_net"
   ]
  },
  {
   "cell_type": "markdown",
   "metadata": {},
   "source": [
    "Now we need an **agent**. The purpose of our agent will be to act according to the current policy and generate experiences.\n",
    "Our `PolicyAgent` will use a `PolicyNet` as the current policy function.\n",
    "\n",
    "\n",
    "We'll also define some extra datatypes to help us represent the data generated by our agent.\n",
    "You can find the `Experience`, `Episode` and `TrainBatch` datatypes in the `hw4/rl_data.py` module."
   ]
  },
  {
   "cell_type": "markdown",
   "metadata": {},
   "source": [
    "**TODO**: Implement the `current_action_distribution()` method of the `PolicyAgent` class in the `hw4/rl_pg.py` module."
   ]
  },
  {
   "cell_type": "code",
   "execution_count": 6,
   "metadata": {},
   "outputs": [
    {
     "name": "stdout",
     "output_type": "stream",
     "text": [
      "tensor([0.2161, 0.2423, 0.2732, 0.2685])\n"
     ]
    }
   ],
   "source": [
    "for i in range (10):\n",
    "    agent = hw4pg.PolicyAgent(env, p_net, device)\n",
    "    d = agent.current_action_distribution()\n",
    "    \n",
    "    test.assertSequenceEqual(d.shape, (env.action_space.n,))\n",
    "    test.assertAlmostEqual(d.sum(), 1.0, delta=1e-5)\n",
    "    \n",
    "print(d)"
   ]
  },
  {
   "cell_type": "markdown",
   "metadata": {},
   "source": [
    "**TODO**: Implement the `step()` method of the `PolicyAgent`."
   ]
  },
  {
   "cell_type": "code",
   "execution_count": 7,
   "metadata": {},
   "outputs": [
    {
     "name": "stdout",
     "output_type": "stream",
     "text": [
      "Experience(state=array([ 0.01316166,  1.3981078 ,  0.6724366 , -0.27906477, -0.01419352,\n",
      "       -0.13327086,  0.        ,  0.        ], dtype=float32), action=2, reward=-1.1457513993632802, is_done=False)\n"
     ]
    }
   ],
   "source": [
    "agent = hw4pg.PolicyAgent(env, p_net, device)\n",
    "exp = agent.step()\n",
    "\n",
    "test.assertIsInstance(exp, hw4pg.Experience)\n",
    "print(exp)"
   ]
  },
  {
   "cell_type": "markdown",
   "metadata": {},
   "source": [
    "To test our agent, we'll write some code that allows it to play an environment. We'll use the `Monitor`\n",
    "wrapper in `gym` to generate a video of the episode for visual debugging."
   ]
  },
  {
   "cell_type": "markdown",
   "metadata": {},
   "source": [
    "**TODO**: Complete the implementation of the `monitor_episode()` method of the `PolicyAgent`."
   ]
  },
  {
   "cell_type": "code",
   "execution_count": 8,
   "metadata": {},
   "outputs": [],
   "source": [
    "env, n_steps, reward = agent.monitor_episode(ENV_NAME, p_net, device=device)"
   ]
  },
  {
   "cell_type": "markdown",
   "metadata": {},
   "source": [
    "To display the Monitor video in this notebook, we'll use a helper function from our `jupyter_utils` and a small wrapper that extracts the path of the last video file. "
   ]
  },
  {
   "cell_type": "code",
   "execution_count": 9,
   "metadata": {},
   "outputs": [],
   "source": [
    "import cs236781.jupyter_utils as jupyter_utils\n",
    "\n",
    "def show_monitor_video(monitor_env, idx=0, **kw):\n",
    "    # Extract video path\n",
    "    video_path = monitor_env.videos[idx][0]\n",
    "    video_path = os.path.relpath(video_path, start=os.path.curdir)\n",
    "    \n",
    "    # Use helper function to embed the video\n",
    "    return jupyter_utils.show_video_in_notebook(video_path, **kw)"
   ]
  },
  {
   "cell_type": "code",
   "execution_count": 12,
   "metadata": {},
   "outputs": [
    {
     "name": "stdout",
     "output_type": "stream",
     "text": [
      "Episode ran for 131 steps. Total reward: -299.49\n"
     ]
    },
    {
     "data": {
      "text/html": [
       "<video src=\"data:video/mp4;base64,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\" controls autoplay width=\"500\" height=\"auto\" />"
      ],
      "text/plain": [
       "<IPython.core.display.HTML object>"
      ]
     },
     "execution_count": 12,
     "metadata": {},
     "output_type": "execute_result"
    }
   ],
   "source": [
    "print(f'Episode ran for {n_steps} steps. Total reward: {reward:.2f}')\n",
    "\n",
    "show_monitor_video(env, idx=0)"
   ]
  },
  {
   "cell_type": "markdown",
   "metadata": {},
   "source": [
    "### Training data"
   ]
  },
  {
   "cell_type": "markdown",
   "metadata": {},
   "source": [
    "The next step is to create data to train on.\n",
    "We need to train on batches of state-action pairs, so that our network can learn to predict the actions.\n",
    "\n",
    "We'll split this task into three parts:\n",
    "1. Generate a batch of `Episode`s, by using an `Agent` that's playing according to our current policy network.\n",
    "   Each `Episode` object contains the `Experience` objects created by the agent.\n",
    "2. Calculate the total discounted reward for each state we encountered and action we took. This is our action-value estimate.\n",
    "3. Convert the `Episode`s into a batch of tensors to train on.\n",
    "   Each batch will contain states, action taken per state, reward accrued, and the calculated estimated state-values.\n",
    "   These will be stored in a `TrainBatch` object.\n"
   ]
  },
  {
   "cell_type": "markdown",
   "metadata": {},
   "source": [
    "**TODO**: Complete the implementation of the `episode_batch_generator()` method in the `TrainBatchDataset` class within the `hw4.rl_data` module. This will address part 1 in the list above."
   ]
  },
  {
   "cell_type": "code",
   "execution_count": 26,
   "metadata": {},
   "outputs": [
    {
     "name": "stdout",
     "output_type": "stream",
     "text": [
      "First episode: Episode(total_reward=-115.22, #experences=108)\n"
     ]
    }
   ],
   "source": [
    "import hw4.rl_data as hw4data\n",
    "\n",
    "def agent_fn():\n",
    "    env = gym.make(ENV_NAME)\n",
    "    hp = hw4.answers.part1_pg_hyperparams()\n",
    "    p_net = hw4pg.PolicyNet.build_for_env(env, device, **hp)\n",
    "    return hw4pg.PolicyAgent(env, p_net, device)\n",
    "    \n",
    "ds = hw4data.TrainBatchDataset(agent_fn, episode_batch_size=8, gamma=0.9)\n",
    "batch_gen = ds.episode_batch_generator()\n",
    "b = next(batch_gen)\n",
    "print('First episode:', b[0])\n",
    "\n",
    "test.assertEqual(len(b), 8)\n",
    "for ep in b:\n",
    "    test.assertIsInstance(ep, hw4data.Episode)\n",
    "    \n",
    "    # Check that it's a full episode\n",
    "    is_done = [exp.is_done for exp in ep.experiences]\n",
    "    test.assertFalse(any(is_done[0:-1]))\n",
    "    test.assertTrue(is_done[-1])"
   ]
  },
  {
   "cell_type": "markdown",
   "metadata": {},
   "source": [
    "**TODO**: Complete the implementation of the `calc_qvals()` method in the `Episode` class.\n",
    "This will address part 2.\n",
    "These q-values are an estimate of the actual action value function: $$\\hat{q}_{t} = \\sum_{t'\\geq t} \\gamma^{t'-t}r_{t'+1}.$$"
   ]
  },
  {
   "cell_type": "code",
   "execution_count": 33,
   "metadata": {},
   "outputs": [],
   "source": [
    "np.random.seed(SEED)\n",
    "test_rewards = np.random.randint(-10, 10, 100)\n",
    "test_experiences = [hw4pg.Experience(None,None,r,False) for r in test_rewards] \n",
    "test_episode = hw4data.Episode(np.sum(test_rewards), test_experiences)\n",
    "\n",
    "qvals = test_episode.calc_qvals(0.9)\n",
    "qvals = list(qvals)\n",
    "\n",
    "expected_qvals = np.load(os.path.join('tests', 'assets', 'part1_expected_qvals.npy'))\n",
    "for i in range(len(test_rewards)):\n",
    "    test.assertAlmostEqual(expected_qvals[i], qvals[i], delta=1e-3)"
   ]
  },
  {
   "cell_type": "markdown",
   "metadata": {},
   "source": [
    "**TODO**: Complete the implementation of the `from_episodes()` method in the `TrainBatch` class.\n",
    "This will address part 3.\n",
    "\n",
    "Notes:\n",
    "- The `TrainBatchDataset` class provides a generator function that will use the above function to lazily generate batches of training samples and labels on demand.\n",
    "- This allows us to use a standard `PyTorch` dataloader to wrap our Dataset and provide us with parallel data loading for free!\n",
    "  This means we can run multiple environments with multiple agents in separate background processes to generate data for training and thus prevent the data loading bottleneck which is caused by the fact that we must generate full Episodes to train on in order to calculate the q-values.\n",
    "- We'll set the `DataLoader`'s `batch_size` to `None` because we have already implemented custom batching in our dataset.\n",
    "- You can choose the number of worker processes generating data using the `num_workers` parameter in the hyperparams dict. Set `num_workers=0` to disable parallelization."
   ]
  },
  {
   "cell_type": "code",
   "execution_count": 40,
   "metadata": {},
   "outputs": [
    {
     "name": "stdout",
     "output_type": "stream",
     "text": [
      "#0: TrainBatch(states: torch.Size([689, 8]), actions: torch.Size([689]), q_vals: torch.Size([689])), num_episodes: 8)\n",
      "\n",
      "#1: TrainBatch(states: torch.Size([636, 8]), actions: torch.Size([636]), q_vals: torch.Size([636])), num_episodes: 8)\n",
      "\n",
      "#2: TrainBatch(states: torch.Size([850, 8]), actions: torch.Size([850]), q_vals: torch.Size([850])), num_episodes: 8)\n",
      "\n"
     ]
    }
   ],
   "source": [
    "from torch.utils.data import DataLoader\n",
    "\n",
    "hp = hw4.answers.part1_pg_hyperparams()\n",
    "\n",
    "ds = hw4data.TrainBatchDataset(agent_fn, episode_batch_size=8, gamma=0.9)\n",
    "dl = DataLoader(\n",
    "    ds,\n",
    "    batch_size=None,\n",
    "    num_workers=hp['num_workers'],\n",
    "    multiprocessing_context='fork' if hp['num_workers'] > 0 else None\n",
    ")\n",
    "\n",
    "\n",
    "for i, train_batch in enumerate(dl):\n",
    "    states, actions, qvals, reward_mean = train_batch\n",
    "    print(f'#{i}: {train_batch}', end=\"\\n\\n\")\n",
    "    test.assertEqual(states.shape[0], actions.shape[0])\n",
    "    test.assertEqual(qvals.shape[0], actions.shape[0])\n",
    "    test.assertEqual(states.shape[1], env.observation_space.shape[0])\n",
    "    if i > 1:\n",
    "        break"
   ]
  },
  {
   "cell_type": "markdown",
   "metadata": {},
   "source": [
    "### Loss functions"
   ]
  },
  {
   "cell_type": "markdown",
   "metadata": {},
   "source": [
    "As usual, we need a loss function to optimize over.\n",
    "We'll calculate three types of losses:\n",
    "1. The causal vanilla policy gradient loss.\n",
    "1. The policy gradient loss, with a baseline to reduce variance.\n",
    "2. An entropy-based loss whos purpose is to diversify the agent's action selection,\n",
    "   and prevent it from being \"too sure\" about its actions.\n",
    "   This loss will be used together with one of the above losses."
   ]
  },
  {
   "cell_type": "markdown",
   "metadata": {},
   "source": [
    "#### Causal vanilla policy-gradient"
   ]
  },
  {
   "cell_type": "markdown",
   "metadata": {},
   "source": [
    "We have derived the policy-gradient as\n",
    "$$\n",
    "\\grad\\mathcal{L}(\\vec{\\theta}) = \\E[\\tau]{-g(\\tau)\\sum_{t\\geq0} \\grad\\log \\pi_{\\vec{\\theta}}(a_t|s_t)}.\n",
    "$$\n",
    "\n",
    "By writing the discounted reward explicitly and enforcing causality, i.e. the action taken at time $t$ can't affect\n",
    "the reward at time $t'<t$, we can get a slightly lower-variance version of the policy gradient:\n",
    "\n",
    "$$\n",
    "\\grad\\mathcal{L}_{\\text{PG}}(\\vec{\\theta}) = \n",
    "\\E[\\tau]{-\\sum_{t\\geq0} \\left(\\sum_{t'\\geq t} \\gamma^{t'-t}r_{t'+1} \\right)\\grad\\log \\pi_{\\vec{\\theta}}(a_t|s_t)}.\n",
    "$$"
   ]
  },
  {
   "cell_type": "markdown",
   "metadata": {},
   "source": [
    "In practice, the expectation over trajectories is calculated using a Monte-Carlo approach, i.e. simply sampling $N$\n",
    "trajectories and average the term inside the expectation. Therefore, we will use the following estimated version of the policy gradient:\n",
    "\n",
    "$$\n",
    "\\begin{align}\n",
    "\\hat\\grad\\mathcal{L}_{\\text{PG}}(\\vec{\\theta})\n",
    "&=-\\frac{1}{N}\\sum_{i=1}^{N}\\sum_{t\\geq0} \\left(\\sum_{t'\\geq t} \\gamma^{t'-t}r_{i,t'+1} \\right)\\grad\\log \\pi_{\\vec{\\theta}}(a_{i,t}|s_{i,t}) \\\\\n",
    "&=-\\frac{1}{N}\\sum_{i=1}^{N}\\sum_{t\\geq0} \\hat{q}_{i,t} \\grad\\log \\pi_{\\vec{\\theta}}(a_{i,t}|s_{i,t}).\n",
    "\\end{align}\n",
    "$$\n",
    "\n",
    "Note the use of the notation $\\hat{q}_{i,t}$ to represent the estimated action-value at time $t$ in the sampled trajectory $i$.\n",
    "Here $\\hat{q}_{i,t}$ is acting as the weight-term for the policy gradient."
   ]
  },
  {
   "cell_type": "markdown",
   "metadata": {},
   "source": [
    "**TODO**: Complete the implementation of the `VanillaPolicyGradientLoss` class in the `hw4/rl_pg.py` module."
   ]
  },
  {
   "cell_type": "code",
   "execution_count": null,
   "metadata": {},
   "outputs": [],
   "source": [
    "# Ensure deterministic run\n",
    "env = gym.make(ENV_NAME)\n",
    "env.seed(SEED)\n",
    "torch.manual_seed(SEED)\n",
    "\n",
    "def agent_fn():\n",
    "    # Use a simple \"network\" here, so that this test doesn't depend on\n",
    "    # your specific PolicyNet implementation\n",
    "    p_net_test = nn.Linear(ENV_N_OBSERVATIONS, ENV_N_ACTIONS, bias=True)\n",
    "    agent = hw4pg.PolicyAgent(env, p_net_test)\n",
    "    return agent\n",
    "\n",
    "dataloader = hw4data.TrainBatchDataset(agent_fn, gamma=0.9, episode_batch_size=4)\n",
    "\n",
    "test_batch = next(iter(dataloader))\n",
    "test_action_scores = torch.randn(len(test_batch), env.action_space.n)\n",
    "print(f\"{test_batch=}\", end='\\n\\n')\n",
    "print(f\"test_action_scores=\\n{test_action_scores}\\nshape={test_action_scores.shape}\", end='\\n\\n')\n",
    "\n",
    "loss_fn_p = hw4pg.VanillaPolicyGradientLoss()\n",
    "loss_p, _ = loss_fn_p(test_batch, test_action_scores)\n",
    "\n",
    "print(f'{loss_p=}')\n",
    "test.assertAlmostEqual(loss_p.item(), -48.560, delta=1e-2)"
   ]
  },
  {
   "cell_type": "markdown",
   "metadata": {},
   "source": [
    "#### Policy-gradient with baseline"
   ]
  },
  {
   "cell_type": "markdown",
   "metadata": {},
   "source": [
    "Another way to reduce the variance of our gradient is to use relative weighting of the log-policy instead of absolute reward values.\n",
    "$$\n",
    "\\hat\\grad\\mathcal{L}_{\\text{BPG}}(\\vec{\\theta})\n",
    "=-\\frac{1}{N}\\sum_{i=1}^{N}\\sum_{t\\geq0} \\left(\\hat{q}_{i,t}-b\\right) \\grad\\log \\pi_{\\vec{\\theta}}(a_{i,t}|s_{i,t}).\n",
    "$$\n",
    "In other words, we don't measure a trajectory's worth by it's total reward, but by how much better that total reward is relative to some\n",
    "expected (\"baseline\") reward value, denoted above by $b$.\n",
    "Note that subtracting a baseline has no effect on the expected value of the policy gradient. It's easy to prove this directly by definition.\n",
    "\n",
    "Here we'll implement a very simple baseline (not optimal in terms of variance reduction): the average of the estimated state-values $\\hat{q}_{i,t}$."
   ]
  },
  {
   "cell_type": "markdown",
   "metadata": {},
   "source": [
    "**TODO**: Complete the implementation of the `BaselinePolicyGradientLoss` class in the `hw4/rl_pg.py` module."
   ]
  },
  {
   "cell_type": "code",
   "execution_count": null,
   "metadata": {},
   "outputs": [],
   "source": [
    "# Using the same batch and action_scores from above cell\n",
    "loss_fn_p = hw4pg.BaselinePolicyGradientLoss()\n",
    "loss_p, loss_dict = loss_fn_p(test_batch, test_action_scores)\n",
    "\n",
    "print(f'{loss_dict=}')\n",
    "test.assertAlmostEqual(loss_dict['baseline'], -29.841, delta=1e-2)\n",
    "test.assertAlmostEqual(loss_p.item(), 1.297, delta=1e-2)"
   ]
  },
  {
   "cell_type": "markdown",
   "metadata": {},
   "source": [
    "#### Entropy loss"
   ]
  },
  {
   "cell_type": "markdown",
   "metadata": {},
   "source": [
    "The entropy of a probability distribution (in our case the policy), is\n",
    "$$\n",
    "H(\\pi) = -\\sum_{a} \\pi(a|s)\\log\\pi(a|s).\n",
    "$$\n",
    "The entropy is always positive and obtains it's maximum for a uniform distribution.\n",
    "We'll use the entropy of the policy as a bonus, i.e. we'll try to maximize it.\n",
    "The idea is the prevent the policy distribution from becoming too narrow and thus promote the agent's exploration."
   ]
  },
  {
   "cell_type": "markdown",
   "metadata": {},
   "source": [
    "First, we'll calculate the maximal possible entropy value of the action distribution for a set number of possible actions.\n",
    "This will be used as a normalization term.\n",
    "\n",
    "**TODO**: Complete the implementation of the `calc_max_entropy()` method in the `ActionEntropyLoss` class."
   ]
  },
  {
   "cell_type": "code",
   "execution_count": null,
   "metadata": {},
   "outputs": [],
   "source": [
    "loss_fn_e = hw4pg.ActionEntropyLoss(env.action_space.n)\n",
    "print('max_entropy = ', loss_fn_e.max_entropy)\n",
    "\n",
    "test.assertAlmostEqual(loss_fn_e.max_entropy, 1.38629436, delta=1e-3)"
   ]
  },
  {
   "cell_type": "markdown",
   "metadata": {},
   "source": [
    "**TODO**: Complete the implementation of the `forward()` method in the `ActionEntropyLoss` class."
   ]
  },
  {
   "cell_type": "code",
   "execution_count": null,
   "metadata": {},
   "outputs": [],
   "source": [
    "loss_e, _ = loss_fn_e(test_batch, test_action_scores)\n",
    "print('loss = ', loss_e)\n",
    "\n",
    "test.assertAlmostEqual(loss_e.item(), -0.8103, delta=1e-2)"
   ]
  },
  {
   "cell_type": "markdown",
   "metadata": {},
   "source": [
    "### Training"
   ]
  },
  {
   "cell_type": "markdown",
   "metadata": {},
   "source": [
    "We'll implement our training procedure as follows:\n",
    "\n",
    "1. Initialize the current policy to be a random policy.\n",
    "1. Sample $N$ trajectories from the environment using the current policy.\n",
    "2. Calculate the estimated $q$-values, $\\hat{q}_{i,t} = \\sum_{t'\\geq t} \\gamma^{t'}r_{i,t'+1}$ for each trajectory $i$.\n",
    "3. Calculate policy gradient estimate $\\hat\\grad\\mathcal{L}(\\vec{\\theta})$ as defined above.\n",
    "4. Perform SGD update $\\vec{\\theta}\\leftarrow\\vec{\\theta}-\\eta\\hat\\grad\\mathcal{L}(\\vec{\\theta})$.\n",
    "5. Repeat from step 2.\n",
    "\n",
    "This is known as the **REINFORCE** algorithm."
   ]
  },
  {
   "cell_type": "markdown",
   "metadata": {},
   "source": [
    "Fortunately, we've already implemented everything we need for steps 1-4 so we need only a bit more code to put it all together.\n",
    "\n",
    "The following block implements a wrapper, `train_pg` to create all the objects we need in order to train our policy gradient model.\n"
   ]
  },
  {
   "cell_type": "code",
   "execution_count": null,
   "metadata": {},
   "outputs": [],
   "source": [
    "import hw4.answers\n",
    "from functools import partial\n",
    "\n",
    "ENV_NAME = \"Beresheet-v2\"\n",
    "\n",
    "def agent_fn_train(agent_type, p_net, seed, envs_dict):\n",
    "    winfo = torch.utils.data.get_worker_info()\n",
    "    wid = winfo.id if winfo else 0\n",
    "    seed = seed + wid if seed else wid\n",
    "\n",
    "    env = gym.make(ENV_NAME)\n",
    "    envs_dict[wid] = env\n",
    "    env.seed(seed)\n",
    "    np.random.seed(seed)\n",
    "    torch.manual_seed(seed)\n",
    "\n",
    "    return agent_type(env, p_net)\n",
    "\n",
    "def train_rl(agent_type, net_type, loss_fns, hp, seed=None, checkpoints_file=None, **train_kw):\n",
    "    print(f'hyperparams: {hp}')\n",
    "    \n",
    "    envs = {}\n",
    "    p_net = net_type(ENV_N_OBSERVATIONS, ENV_N_ACTIONS, **hp)\n",
    "    p_net.share_memory()\n",
    "    agent_fn = partial(agent_fn_train, agent_type, p_net, seed, envs)\n",
    "    \n",
    "    dataset = hw4data.TrainBatchDataset(agent_fn, hp['batch_size'], hp['gamma'])\n",
    "    dataloader = DataLoader(\n",
    "        dataset, batch_size=None,\n",
    "        num_workers=hp['num_workers'],\n",
    "        multiprocessing_context='fork' if hp['num_workers'] > 0 else None\n",
    "    )\n",
    "    optimizer = optim.Adam(p_net.parameters(), lr=hp['learn_rate'], eps=hp['eps'])\n",
    "    \n",
    "    trainer = hw4pg.PolicyTrainer(p_net, optimizer, loss_fns, dataloader, checkpoints_file)\n",
    "    try:\n",
    "        trainer.train(**train_kw)\n",
    "    except KeyboardInterrupt as e:\n",
    "        print('Training interrupted by user.')\n",
    "    finally:\n",
    "        for env in envs.values():\n",
    "            env.close()\n",
    "\n",
    "    # Include final model state\n",
    "    training_data = trainer.training_data\n",
    "    training_data['model_state'] = p_net.state_dict()\n",
    "    return training_data\n",
    "    \n",
    "def train_pg(baseline=False, entropy=False, **train_kwargs):\n",
    "    hp = hw4.answers.part1_pg_hyperparams()\n",
    "    \n",
    "    loss_fns = []\n",
    "    if baseline:\n",
    "        loss_fns.append(hw4pg.BaselinePolicyGradientLoss())\n",
    "    else:\n",
    "        loss_fns.append(hw4pg.VanillaPolicyGradientLoss())\n",
    "    if entropy:\n",
    "        loss_fns.append(hw4pg.ActionEntropyLoss(ENV_N_ACTIONS, hp['beta']))\n",
    "\n",
    "    return train_rl(hw4pg.PolicyAgent, hw4pg.PolicyNet, loss_fns, hp, **train_kwargs)"
   ]
  },
  {
   "cell_type": "markdown",
   "metadata": {},
   "source": [
    "The `PolicyTrainer` class implements the training loop, collects the losses and rewards and provides some useful checkpointing functionality.\n",
    "The training loop will generate batches of episodes and train on them until either:\n",
    "- The average total reward from the last `running_mean_len` episodes is greater than the `target_reward`, OR\n",
    "- The number of generated episodes reached `max_episodes`.\n",
    "\n",
    "Most of this class is already implemented for you. "
   ]
  },
  {
   "cell_type": "markdown",
   "metadata": {},
   "source": [
    "**TODO**:\n",
    "1. Complete the training loop by implementing the `train_batch()` method of the `PolicyTrainer`.\n",
    "2. Tweak the hyperparameters in the `part1_pg_hyperparams()` function within the `hw4/answers.py` module as needed. You get some sane defaults."
   ]
  },
  {
   "cell_type": "markdown",
   "metadata": {},
   "source": [
    "Let's check whether our model is actually training.\n",
    "We'll try to reach a very low (bad) target reward, just as a sanity check to see that training works.\n",
    "Your model should be able to reach this target reward within a few batches.\n",
    "\n",
    "You can increase the target reward and use this block to manually tweak your model and hyperparameters a few times."
   ]
  },
  {
   "cell_type": "code",
   "execution_count": null,
   "metadata": {},
   "outputs": [],
   "source": [
    "target_reward = -140 # VERY LOW target\n",
    "train_data = train_pg(target_reward=target_reward, seed=SEED, max_episodes=2000, running_mean_len=10)\n",
    "\n",
    "test.assertGreater(train_data['mean_reward'][-1], target_reward)"
   ]
  },
  {
   "cell_type": "markdown",
   "metadata": {},
   "source": [
    "### Experimenting with different losses"
   ]
  },
  {
   "cell_type": "markdown",
   "metadata": {},
   "source": [
    "We'll now run a few experiments to see the effect of diferent loss functions on the training dynamics. Namely, we'll try:\n",
    "1. Vanilla PG (`vpg`): No baseline, no entropy\n",
    "2. Baseline PG (`bpg`): Baseline, no entropy loss\n",
    "3. Entropy PG (`epg`): No baseline, with entropy loss\n",
    "3. Combined PG (`cpg`): Baseline, with entropy loss"
   ]
  },
  {
   "cell_type": "code",
   "execution_count": null,
   "metadata": {},
   "outputs": [],
   "source": [
    "from collections import namedtuple\n",
    "from pprint import pprint\n",
    "import itertools as it\n",
    "\n",
    "\n",
    "ExpConfig = namedtuple('ExpConfig', ('name','baseline','entropy'))\n",
    "\n",
    "def exp_configs():\n",
    "    exp_names = ('vpg', 'epg', 'bpg', 'cpg')\n",
    "    z = zip(exp_names, it.product((False, True), (False, True)))\n",
    "    return (ExpConfig(n, b, e) for (n, (b, e)) in z)\n",
    "\n",
    "pprint(list(exp_configs()))"
   ]
  },
  {
   "cell_type": "markdown",
   "metadata": {},
   "source": [
    "We'll save the training data from each experiment for plotting."
   ]
  },
  {
   "cell_type": "code",
   "execution_count": null,
   "metadata": {},
   "outputs": [],
   "source": [
    "import pickle\n",
    "\n",
    "def dump_training_data(data, filename):\n",
    "    os.makedirs(os.path.dirname(filename), exist_ok=True)\n",
    "    with open(filename, mode='wb') as file:\n",
    "        pickle.dump(data, file)\n",
    "        \n",
    "def load_training_data(filename):\n",
    "    with open(filename, mode='rb') as file:\n",
    "        return pickle.load(file)"
   ]
  },
  {
   "cell_type": "markdown",
   "metadata": {},
   "source": [
    "Let's run the experiments! We'll run each configuration for a fixed number of episodes so that we can compare them.\n",
    "\n",
    "Notes:\n",
    "1. Until your models start working, you can decrease the number of episodes for each experiment, or only run one experiment.\n",
    "2.  The results will be saved in a file. To re-run the experiments, you can set `force_run` to `True`."
   ]
  },
  {
   "cell_type": "code",
   "execution_count": null,
   "metadata": {},
   "outputs": [],
   "source": [
    "import math\n",
    "\n",
    "exp_max_episodes = 4000\n",
    "\n",
    "results = {}\n",
    "training_data_filename = os.path.join('results', f'part1_exp.dat')\n",
    "\n",
    "# Set to True to force re-run (careful! will delete old experiment results)\n",
    "force_run = False\n",
    "\n",
    "# Skip running if results file exists.\n",
    "if os.path.isfile(training_data_filename) and not force_run:\n",
    "    print(f'=== results file {training_data_filename} exists, skipping experiments.')\n",
    "    results = load_training_data(training_data_filename)\n",
    "    \n",
    "else:\n",
    "    for n, b, e in exp_configs():\n",
    "        print(f'=== Experiment {n}')\n",
    "        results[n] = train_pg(baseline=b, entropy=e, max_episodes=exp_max_episodes, post_batch_fn=None)\n",
    "        \n",
    "    dump_training_data(results, training_data_filename)"
   ]
  },
  {
   "cell_type": "code",
   "execution_count": null,
   "metadata": {},
   "outputs": [],
   "source": [
    "def plot_experiment_results(results, fig=None):\n",
    "    if fig is None:\n",
    "        fig, _ = plt.subplots(nrows=2, ncols=2, sharex=True, figsize=(18,12))\n",
    "    for i, plot_type in enumerate(('loss_p', 'baseline', 'loss_e', 'mean_reward')):\n",
    "        ax = fig.axes[i]\n",
    "        for exp_name, exp_res in results.items():\n",
    "            if plot_type not in exp_res:\n",
    "                continue\n",
    "            ax.plot(exp_res['episode_num'], exp_res[plot_type], label=exp_name)\n",
    "        ax.set_title(plot_type)\n",
    "        ax.set_xlabel('episode')\n",
    "        ax.legend()\n",
    "    return fig\n",
    "    \n",
    "experiments_results_fig = plot_experiment_results(results)"
   ]
  },
  {
   "cell_type": "markdown",
   "metadata": {},
   "source": [
    "You should see positive training dynamics in the graphs (reward going up).\n",
    "If you don't, use them to further update your model or hyperparams.\n",
    "\n",
    "To pass the test, you'll need to get a best total mean reward of at least 10 in the fixed number of epochs using the combined loss.\n",
    "It's possible to get much higher (over 100)."
   ]
  },
  {
   "cell_type": "code",
   "execution_count": null,
   "metadata": {},
   "outputs": [],
   "source": [
    "best_cpg_mean_reward = max(results['cpg']['mean_reward'])\n",
    "print(f'Best CPG mean reward: {best_cpg_mean_reward:.2f}')\n",
    "\n",
    "test.assertGreater(best_cpg_mean_reward, 10)"
   ]
  },
  {
   "cell_type": "markdown",
   "metadata": {},
   "source": [
    "Now let's take a look at a gameplay video of our `cpg` model after the short training!"
   ]
  },
  {
   "cell_type": "code",
   "execution_count": null,
   "metadata": {},
   "outputs": [],
   "source": [
    "hp = hw4.answers.part1_pg_hyperparams()\n",
    "p_net_cpg = hw4pg.PolicyNet.build_for_env(env, **hp)\n",
    "p_net_cpg.load_state_dict(results['cpg']['model_state'])\n",
    "\n",
    "env, n_steps, reward = hw4pg.PolicyAgent.monitor_episode(ENV_NAME, p_net_cpg)\n",
    "print(f'{n_steps} steps, total reward: {reward:.2f}')\n",
    "show_monitor_video(env)"
   ]
  },
  {
   "cell_type": "markdown",
   "metadata": {},
   "source": [
    "## Advantage Actor-Critic (AAC)\n",
    "<a id=part1_2></a>"
   ]
  },
  {
   "cell_type": "markdown",
   "metadata": {},
   "source": [
    "We have seen that the policy-gradient loss can be interpreted as a log-likelihood of the policy term\n",
    "(selecting a specific action at a specific state), weighted by the future rewards of that choice of action.\n",
    "\n",
    "However, naïvely weighting by rewards has significant drawbacks in terms of the variance of the resulting gradient.\n",
    "We addressed this by adding a simple baseline term which represented our \"expected reward\" so that we increase probability of actions\n",
    "leading to trajectories which exceed this expectation and vice-versa.\n",
    "\n",
    "In this part we'll explore a more powerful baseline, which is the idea behind the AAC method."
   ]
  },
  {
   "cell_type": "markdown",
   "metadata": {},
   "source": [
    "### The advantage function"
   ]
  },
  {
   "cell_type": "markdown",
   "metadata": {},
   "source": [
    "Recall the definition of the state-value function $v_{\\pi}(s)$ and action-value function $q_{\\pi}(s,a)$:\n",
    "\n",
    "$$\n",
    "\\begin{align}\n",
    "v_{\\pi}(s) &= \\E{g(\\tau)|s_0 = s,\\pi} \\\\\n",
    "q_{\\pi}(s,a) &= \\E{g(\\tau)|s_0 = s,a_0=a,\\pi}.\n",
    "\\end{align}\n",
    "$$\n",
    "\n",
    "Both these functions represent the value of the state $s$. However, $v_\\pi$ averages over the first action according to the policy,\n",
    "while $q_\\pi$ fixes the first action and then continues according to the policy."
   ]
  },
  {
   "cell_type": "markdown",
   "metadata": {},
   "source": [
    "Their difference is known as the **advantage function**:\n",
    "$$\n",
    "a_\\pi(s,a) = q_\\pi(s,a)-v_\\pi(s).\n",
    "$$\n",
    "\n",
    "If $a_\\pi(s,a)>0$ it means that it's better (in expectation) to take action $a$ in state $s$ compared to the average action.\n",
    "In other words, $a_\\pi(s,a)$ represents the *advantage* of using action $a$ in state $s$ compared to the others."
   ]
  },
  {
   "cell_type": "markdown",
   "metadata": {},
   "source": [
    "So far we have used an estimate for $q_\\pi$ as our weighting term for the log-policy, with a fixed baseline per batch.\n",
    "\n",
    "$$\n",
    "\\hat\\grad\\mathcal{L}_{\\text{BPG}}(\\vec{\\theta})\n",
    "=-\\frac{1}{N}\\sum_{i=1}^{N}\\sum_{t\\geq0} \\left(\\hat{q}_{i,t}-b\\right) \\grad\\log \\pi_{\\vec{\\theta}}(a_{i,t}|s_{i,t}).\n",
    "$$\n"
   ]
  },
  {
   "cell_type": "markdown",
   "metadata": {},
   "source": [
    "Now, we will use the state value as a baseline, so that an estimate of the advantage function is our weighting term:\n",
    "\n",
    "$$\n",
    "\\hat\\grad\\mathcal{L}_{\\text{AAC}}(\\vec{\\theta})\n",
    "=-\\frac{1}{N}\\sum_{i=1}^{N}\\sum_{t\\geq0} \\left(\\hat{q}_{i,t}-v_\\pi(s_t)\\right) \\grad\\log \\pi_{\\vec{\\theta}}(a_{i,t}|s_{i,t}).\n",
    "$$\n",
    "\n",
    "Intuitively, using the advantage function makes sense because it means we're weighting our policy's actions according to\n",
    "how advantageous they are compared to other possible actions."
   ]
  },
  {
   "cell_type": "markdown",
   "metadata": {},
   "source": [
    "But how will we know $v_\\pi(s)$? We'll learn it of course, using another neural network.\n",
    "This is known as actor-critic learning. We simultaneously learn the policy (actor) and the value of states (critic).\n",
    "We'll treat it as a regression task: given a state $s_t$, our state-value network will output $\\hat{v}_\\pi(s_t)$,\n",
    "an estimate of the actual unknown state-value.\n",
    "Our regression targets will be the discounted rewards, $\\hat{q}_{i,t}$ (see question 2),\n",
    "and we can use a simple MSE as the loss function,\n",
    "$$\n",
    "\\mathcal{L}_{\\text{SV}} = \\frac{1}{N}\\sum_{i=1}^{N}\\sum_{t\\geq0}\\left(\\hat{v}_\\pi(s_t) - \\hat{q}_{i,t}\\right)^2.\n",
    "$$\n"
   ]
  },
  {
   "cell_type": "markdown",
   "metadata": {},
   "source": [
    "### Implementation"
   ]
  },
  {
   "cell_type": "markdown",
   "metadata": {},
   "source": [
    "We'll build heavily on our implementation of the regular policy-gradient method, and just add a new model class and a new loss class, with a small modification to the agent."
   ]
  },
  {
   "cell_type": "markdown",
   "metadata": {},
   "source": [
    "Let's start with the model. It will accept a state, and return action scores (as before), but also the value of that state.\n",
    "You can experiment with a dual-head network that has a shared base, or implement two separate parts within the network.\n",
    "\n",
    "**TODO**:\n",
    "1. Implement the model as the `AACPolicyNet` class in the `hw4/rl_ac.py` module.\n",
    "1. Set the hyperparameters in the `part1_aac_hyperparams()` function of the `hw4.answers` module."
   ]
  },
  {
   "cell_type": "code",
   "execution_count": null,
   "metadata": {},
   "outputs": [],
   "source": [
    "import hw4.rl_ac as hw4ac\n",
    "\n",
    "hp = hw4.answers.part1_aac_hyperparams()\n",
    "pv_net = hw4ac.AACPolicyNet.build_for_env(env, device, **hp)\n",
    "pv_net"
   ]
  },
  {
   "cell_type": "markdown",
   "metadata": {},
   "source": [
    "**TODO**: Complete the implementation of the agent class, `AACPolicyAgent`, in the `hw4/rl_ac.py` module."
   ]
  },
  {
   "cell_type": "code",
   "execution_count": null,
   "metadata": {},
   "outputs": [],
   "source": [
    "agent = hw4ac.AACPolicyAgent(env, pv_net, device)\n",
    "exp = agent.step()\n",
    "\n",
    "test.assertIsInstance(exp, hw4pg.Experience)\n",
    "print(exp)"
   ]
  },
  {
   "cell_type": "markdown",
   "metadata": {},
   "source": [
    "**TODO**: Implement the AAC loss function as the class `AACPolicyGradientLoss` in the `hw4/rl_ac.py` module."
   ]
  },
  {
   "cell_type": "code",
   "execution_count": null,
   "metadata": {},
   "outputs": [],
   "source": [
    "loss_fn_aac = hw4ac.AACPolicyGradientLoss(delta=1.)\n",
    "test_state_values = torch.ones(test_action_scores.shape[0], 1)\n",
    "loss_t, loss_dict = loss_fn_aac(test_batch, (test_action_scores, test_state_values))\n",
    "\n",
    "print(f'{loss_dict=}')\n",
    "test.assertAlmostEqual(loss_dict['adv_m'], -30.841, delta=1e-2)\n",
    "test.assertAlmostEqual(loss_t.item(), 1466.830, delta=1e-2)"
   ]
  },
  {
   "cell_type": "markdown",
   "metadata": {},
   "source": [
    "### Experimentation"
   ]
  },
  {
   "cell_type": "markdown",
   "metadata": {},
   "source": [
    "Let's run the same experiment as before, but with the AAC method and compare the results."
   ]
  },
  {
   "cell_type": "code",
   "execution_count": null,
   "metadata": {},
   "outputs": [],
   "source": [
    "def train_aac(baseline=False, entropy=False, **train_kwargs):\n",
    "    hp = hw4.answers.part1_aac_hyperparams()\n",
    "    loss_fns = [hw4ac.AACPolicyGradientLoss(hp['delta']), hw4pg.ActionEntropyLoss(ENV_N_ACTIONS, hp['beta'])]\n",
    "    return train_rl(hw4ac.AACPolicyAgent, hw4ac.AACPolicyNet, loss_fns, hp, **train_kwargs)"
   ]
  },
  {
   "cell_type": "code",
   "execution_count": null,
   "metadata": {},
   "outputs": [],
   "source": [
    "training_data_filename = os.path.join('results', f'part1_exp_aac.dat')\n",
    "\n",
    "# Set to True to force re-run (careful, will delete old experiment results)\n",
    "force_run = False\n",
    "\n",
    "if os.path.isfile(training_data_filename) and not force_run:\n",
    "    print(f'=== results file {training_data_filename} exists, skipping experiments.')\n",
    "    results_aac = load_training_data(training_data_filename)\n",
    "    \n",
    "else:\n",
    "    print(f'=== Running AAC experiment')\n",
    "    training_data = train_aac(max_episodes=exp_max_episodes)\n",
    "    results_aac = dict(aac=training_data)\n",
    "    dump_training_data(results_aac, training_data_filename)"
   ]
  },
  {
   "cell_type": "code",
   "execution_count": null,
   "metadata": {},
   "outputs": [],
   "source": [
    "experiments_results_fig = plot_experiment_results(results)\n",
    "plot_experiment_results(results_aac, fig=experiments_results_fig);"
   ]
  },
  {
   "cell_type": "markdown",
   "metadata": {},
   "source": [
    "You should get better results with the AAC method, so this time the bar is higher (again, you should aim for a mean reward of 100+).\n",
    "Compare the graphs with combined PG method and see if they make sense."
   ]
  },
  {
   "cell_type": "code",
   "execution_count": null,
   "metadata": {},
   "outputs": [],
   "source": [
    "best_aac_mean_reward = max(results_aac['aac']['mean_reward'])\n",
    "print(f'Best AAC mean reward: {best_aac_mean_reward:.2f}')\n",
    "\n",
    "test.assertGreater(best_aac_mean_reward, 50)"
   ]
  },
  {
   "cell_type": "markdown",
   "metadata": {},
   "source": [
    "### Final model training and visualization"
   ]
  },
  {
   "cell_type": "markdown",
   "metadata": {},
   "source": [
    "Now, using your best model and hyperparams, let's train model for much longer and see the performance.\n",
    "Just for fun, we'll also visualize an episode every now and then so that we can see how well the agent is playing."
   ]
  },
  {
   "cell_type": "markdown",
   "metadata": {},
   "source": [
    "**TODO**:\n",
    "- Run the following block to train.\n",
    "- Tweak model or hyperparams as necessary.\n",
    "- Aim for high mean reward, at least 150+. It's possible to get over 200.\n",
    "- When training is done and you're satisfied with the model's outputs, rename the checkpoint file by adding `_final` to the file name.\n",
    "  This will cause the block to skip training and instead load your saved model when running the homework submission script.\n",
    "  Note that your submission zip file will not include the checkpoint file. This is OK."
   ]
  },
  {
   "cell_type": "code",
   "execution_count": null,
   "metadata": {},
   "outputs": [],
   "source": [
    "import IPython.display\n",
    "\n",
    "CHECKPOINTS_FILE = f'checkpoints/{ENV_NAME}-ac.dat'\n",
    "CHECKPOINTS_FILE_FINAL = f'checkpoints/{ENV_NAME}-ac_final.dat'\n",
    "TARGET_REWARD = 125\n",
    "MAX_EPISODES = 15_000\n",
    "\n",
    "def post_batch_fn(batch_idx, p_net, batch, print_every=20, final=False):\n",
    "    if not final and batch_idx % print_every != 0:\n",
    "        return\n",
    "    env, n_steps, reward = hw4ac.AACPolicyAgent.monitor_episode(ENV_NAME, p_net)\n",
    "    html = show_monitor_video(env, width=\"500\")\n",
    "    IPython.display.clear_output(wait=True)\n",
    "    print(f'Monitor@#{batch_idx}: n_steps={n_steps}, total_reward={reward:.3f}, final={final}')\n",
    "    IPython.display.display_html(html)\n",
    "    \n",
    "    \n",
    "if os.path.isfile(CHECKPOINTS_FILE_FINAL):\n",
    "    print(f'=== {CHECKPOINTS_FILE_FINAL} exists, skipping training...')\n",
    "    checkpoint_data = torch.load(CHECKPOINTS_FILE_FINAL)\n",
    "    hp = hw4.answers.part1_aac_hyperparams()\n",
    "    pv_net = hw4ac.AACPolicyNet.build_for_env(env, **hp)\n",
    "    pv_net.load_state_dict(checkpoint_data['params'])\n",
    "    print(f'=== Running best model...')\n",
    "    env, n_steps, reward = hw4ac.AACPolicyAgent.monitor_episode(ENV_NAME, pv_net)\n",
    "    print(f'=== Best model ran for {n_steps} steps. Total reward: {reward:.2f}')\n",
    "    IPython.display.display_html(show_monitor_video(env))\n",
    "    best_mean_reward = checkpoint_data[\"best_mean_reward\"]\n",
    "else:\n",
    "    print(f'=== Starting training...')\n",
    "    train_data = train_aac(TARGET_REWARD, max_episodes=MAX_EPISODES,\n",
    "                           seed=None, checkpoints_file=CHECKPOINTS_FILE, post_batch_fn=post_batch_fn)\n",
    "    print(f'=== Done, ', end='')\n",
    "    best_mean_reward = train_data[\"best_mean_reward\"][-1]\n",
    "    print(f'num_episodes={train_data[\"episode_num\"][-1]}, best_mean_reward={best_mean_reward:.1f}')\n",
    "          \n",
    "test.assertGreaterEqual(best_mean_reward, TARGET_REWARD)"
   ]
  },
  {
   "cell_type": "markdown",
   "metadata": {
    "tags": []
   },
   "source": [
    "## Questions\n",
    "<a id=part1_3></a>"
   ]
  },
  {
   "cell_type": "markdown",
   "metadata": {},
   "source": [
    "**TODO**: Answer the following questions. Write your answers in the appropriate variables in the module `hw4/answers.py`."
   ]
  },
  {
   "cell_type": "code",
   "execution_count": null,
   "metadata": {},
   "outputs": [],
   "source": [
    "from cs236781.answers import display_answer\n",
    "import hw4.answers"
   ]
  },
  {
   "cell_type": "markdown",
   "metadata": {},
   "source": [
    "### Question 1\n",
    "\n",
    "Explain qualitatively why subtracting a baseline in the policy-gradient helps reduce it's variance.\n",
    "Specifically, give an example where it helps."
   ]
  },
  {
   "cell_type": "code",
   "execution_count": null,
   "metadata": {},
   "outputs": [],
   "source": [
    "display_answer(hw4.answers.part1_q1)"
   ]
  },
  {
   "cell_type": "markdown",
   "metadata": {},
   "source": [
    "### Question 2\n",
    "\n",
    "In AAC, when using the estimated q-values as regression targets for our state-values, why do we get a valid approximation?\n",
    "Hint: how is $v_\\pi(s)$ expressed in terms of $q_\\pi(s,a)$?"
   ]
  },
  {
   "cell_type": "code",
   "execution_count": null,
   "metadata": {},
   "outputs": [],
   "source": [
    "display_answer(hw4.answers.part1_q2)"
   ]
  },
  {
   "cell_type": "markdown",
   "metadata": {},
   "source": [
    "### Question 3\n",
    "\n",
    "1. Analyze and explain the graphs you got in first experiment run.\n",
    "2. Compare the experiment graphs you got with the AAC method to the regular PG method (`cpg`)."
   ]
  },
  {
   "cell_type": "code",
   "execution_count": null,
   "metadata": {
    "tags": []
   },
   "outputs": [],
   "source": [
    "display_answer(hw4.answers.part1_q3)"
   ]
  }
 ],
 "metadata": {
  "kernelspec": {
   "display_name": "Python 3 (ipykernel)",
   "language": "python",
   "name": "python3"
  },
  "language_info": {
   "codemirror_mode": {
    "name": "ipython",
    "version": 3
   },
   "file_extension": ".py",
   "mimetype": "text/x-python",
   "name": "python",
   "nbconvert_exporter": "python",
   "pygments_lexer": "ipython3",
   "version": "3.8.12"
  }
 },
 "nbformat": 4,
 "nbformat_minor": 4
}
