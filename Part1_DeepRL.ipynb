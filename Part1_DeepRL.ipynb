{
 "cells": [
  {
   "cell_type": "markdown",
   "metadata": {},
   "source": [
    "$$\n",
    "\\newcommand{\\mat}[1]{\\boldsymbol {#1}}\n",
    "\\newcommand{\\mattr}[1]{\\boldsymbol {#1}^\\top}\n",
    "\\newcommand{\\matinv}[1]{\\boldsymbol {#1}^{-1}}\n",
    "\\newcommand{\\vec}[1]{\\boldsymbol {#1}}\n",
    "\\newcommand{\\vectr}[1]{\\boldsymbol {#1}^\\top}\n",
    "\\newcommand{\\rvar}[1]{\\mathrm {#1}}\n",
    "\\newcommand{\\rvec}[1]{\\boldsymbol{\\mathrm{#1}}}\n",
    "\\newcommand{\\diag}{\\mathop{\\mathrm {diag}}}\n",
    "\\newcommand{\\set}[1]{\\mathbb {#1}}\n",
    "\\newcommand{\\cset}[1]{\\mathcal{#1}}\n",
    "\\newcommand{\\norm}[1]{\\left\\lVert#1\\right\\rVert}\n",
    "\\newcommand{\\pderiv}[2]{\\frac{\\partial #1}{\\partial #2}}\n",
    "\\newcommand{\\bb}[1]{\\boldsymbol{#1}}\n",
    "\\newcommand{\\E}[2][]{\\mathbb{E}_{#1}\\left[#2\\right]}\n",
    "\\newcommand{\\ip}[3]{\\left<#1,#2\\right>_{#3}}\n",
    "\\newcommand{\\given}[]{\\,\\middle\\vert\\,}\n",
    "\\newcommand{\\DKL}[2]{\\cset{D}_{\\text{KL}}\\left(#1\\,\\Vert\\, #2\\right)}\n",
    "\\newcommand{\\grad}[]{\\nabla}\n",
    "$$\n",
    "# Part 1: Deep Reinforcement Learning\n",
    "<a id=part1></a>"
   ]
  },
  {
   "cell_type": "markdown",
   "metadata": {},
   "source": [
    "In the tutorial we have seen value-based reinforcement learning, in which we learn to approximate the action-value function $q(s,a)$.\n",
    "\n",
    "In this exercise we'll explore a different approach, directly learning the agent's policy distribution, $\\pi(a|s)$\n",
    "by using *policy gradients*, in order to safely land on the moon!"
   ]
  },
  {
   "cell_type": "code",
   "execution_count": 1,
   "metadata": {},
   "outputs": [],
   "source": [
    "%load_ext autoreload\n",
    "%autoreload 2\n",
    "%matplotlib inline\n",
    "\n",
    "import unittest\n",
    "import os\n",
    "import sys\n",
    "import pathlib\n",
    "import urllib\n",
    "import shutil\n",
    "import re\n",
    "\n",
    "import numpy as np\n",
    "import torch\n",
    "import torch.nn as nn\n",
    "import torch.optim as optim\n",
    "import matplotlib.pyplot as plt"
   ]
  },
  {
   "cell_type": "code",
   "execution_count": 2,
   "metadata": {},
   "outputs": [
    {
     "name": "stdout",
     "output_type": "stream",
     "text": [
      "Using device: cpu\n"
     ]
    }
   ],
   "source": [
    "test = unittest.TestCase()\n",
    "plt.rcParams.update({'font.size': 12})\n",
    "device = torch.device('cuda' if torch.cuda.is_available() else 'cpu')\n",
    "\n",
    "# Prefer CPU, GPU won't help much in this assignment\n",
    "device = 'cpu'\n",
    "print('Using device:', device)\n",
    "\n",
    "# Seed for deterministic tests\n",
    "SEED = 42"
   ]
  },
  {
   "cell_type": "markdown",
   "metadata": {},
   "source": [
    "Some technical notes before we begin:\n",
    "\n",
    "- This part does not require a GPU. We won't need large models, and the computation bottleneck will be the generation of episodes to train on.\n",
    "- In order to run this notebook on the server, you must prepend the `xvfb-run` command to create a virtual screen. For example,\n",
    "    - to run this notebook with `srun` do\n",
    "        ```\n",
    "        srun -c2 --gres=gpu:1 xvfb-run -a -s \"-screen 0 1440x900x24\" python main.py run-nb <filename>\n",
    "        ```\n",
    "    - To run the submission script, do\n",
    "        ```\n",
    "        srun -c2 xvfb-run -a -s \"-screen 0 1440x900x24\" python main.py prepare-submission ...\n",
    "        ```\n",
    "    - note that we have already included the `xvfb-run` command inside the `jupyter-lab.sh` script, so you can use it as usual with `srun`.\n",
    "    and so on.\n",
    "- The OpenAI `gym` library is not officially supported on windows. However it should be possible to install and run the necessary environment for this exercise. However, we cannot provide you with technical support for this. If you have trouble installing locally, we suggest running on the course server.\n",
    "- When running the `gym` environment locally (i.e. not on the course server), an interactive window should appear, showing you the gameplay. There's currently a known issue when running this through jupyter: the window may remain open and seem stuck after the episode completes. If it happens, this is OK, you can keep running the notebook and the rest of the cells wont be affected. The Window will close properly when you shut down the kernel."
   ]
  },
  {
   "cell_type": "markdown",
   "metadata": {},
   "source": [
    "## Policy gradients\n",
    "<a id=part1_1></a>"
   ]
  },
  {
   "cell_type": "markdown",
   "metadata": {},
   "source": [
    "Recall from the tutorial that we define the **policy** of an agent as the conditional distribution,\n",
    "$$\n",
    "\\pi(a|s) = \\Pr(a_t=a\\vert s_t=s),\n",
    "$$\n",
    "which defines how likely the agent is to take action $a$ at state $s$.\n",
    "\n",
    "Furthermore we define the action-value function,\n",
    "$$\n",
    "q_{\\pi}(s,a) = \\E{g_t(\\tau)|s_t = s,a_t=a,\\pi}\n",
    "$$\n",
    "where \n",
    "$$\n",
    "g_t(\\tau) = r_{t+1}+\\gamma r_{t+2} + \\dots = \\sum_{k=0}^{\\infty} \\gamma^k r_{t+1+k},\n",
    "$$\n",
    "is the total discounted reward of a specific trajectory $\\tau$ from time $t$, and the expectation in $q$ is over all possible\n",
    "trajectories,\n",
    "$\n",
    "\\tau=\\left\\{ (s_0,a_0,r_1,s_1), \\dots (s_T,a_T,r_{T+1},s_{T+1}) \\right\\}.\n",
    "$"
   ]
  },
  {
   "cell_type": "markdown",
   "metadata": {},
   "source": [
    "In the tutorial we saw that we can learn a value function starting with some random function and\n",
    "updating it iteratively by using the **Bellman optimality equation**.\n",
    "Given that we have some action-value function, we can immediately create a policy based on that\n",
    "by simply selecting an action which maximize the action-value at the current state, i.e.\n",
    "$$\n",
    "\\pi(a|s) =\n",
    "\\begin{cases}\n",
    "1, & a = \\arg\\max_{a'\\in\\cset{A}} q(s,a') \\\\\n",
    "0, & \\text{else}\n",
    "\\end{cases}.\n",
    "$$\n",
    "This is called $q$-learning. This approach aims to obtain a policy indirectly through the action-value function.\n",
    "Yet, in most cases we don't actually care about knowing the value of particular states,\n",
    "since all we need is a good policy for our agent. \n",
    "\n",
    "Here we'll take a different approach and learn a policy distribution $\\pi(a|s)$ directly - by using **policy gradients**."
   ]
  },
  {
   "cell_type": "markdown",
   "metadata": {},
   "source": [
    "### Formalism"
   ]
  },
  {
   "cell_type": "markdown",
   "metadata": {},
   "source": [
    "We define a parametric policy, $\\pi_\\vec{\\theta}(a|s)$, and maximize total discounted reward (or minimize the negative reward):\n",
    "$$\n",
    "\\mathcal{L}(\\vec{\\theta})=\\E[\\tau]{-g(\\tau)|\\pi_\\vec{\\theta}} = -\\int g(\\tau)p(\\tau|\\vec{\\theta})d\\tau,\n",
    "$$\n",
    "where $p(\\tau|\\vec{\\theta})$ is the probability of a specific trajectory $\\tau$ under the policy defined by $\\vec{\\theta}$.\n"
   ]
  },
  {
   "cell_type": "markdown",
   "metadata": {},
   "source": [
    "Since we want to find the parameters $\\vec{\\theta}$ which minimize $\\mathcal{L}(\\vec{\\theta})$, we'll compute the gradient w.r.t. $\\vec{\\theta}$:\n",
    "$$\n",
    "\\grad\\mathcal{L}(\\vec{\\theta}) = -\\int g(\\tau)\\grad p(\\tau|\\vec{\\theta})d\\tau.\n",
    "$$\n",
    "\n",
    "Unfortunately, if we try to write $p(\\tau|\\vec{\\theta})$ explicitly,\n",
    "we find that computing it's gradient with respect to $\\vec{\\theta}$ is\n",
    "quite intractable due to a huge product of terms depending on $\\vec{\\theta}$:\n",
    "$$\n",
    "p(\\tau|\\vec{\\theta})=p\\left(\\left\\{ (s_t,a_t,r_{t+1},s_{t+1})\\right\\}_{t\\geq0}\\given\\vec{\\theta}\\right)\n",
    "=p(s_0)\\prod_{t\\geq0} \\pi_{\\vec{\\theta}}(a_t|s_t)p(s_{t+1}|s_t,a_t).\n",
    "$$"
   ]
  },
  {
   "cell_type": "markdown",
   "metadata": {},
   "source": [
    "However, by using the fact that $\\grad_{x}\\log(f(x))=\\frac{\\grad_{x}f(x)}{f(x)}$, we can convert the product into a sum:\n",
    "$$\n",
    "\\begin{align}\n",
    "\\grad\\mathcal{L}(\\vec{\\theta})\n",
    "&= -\\int g(\\tau)\\grad p(\\tau|\\vec{\\theta})d\\tau\n",
    "= -\\int g(\\tau)\\frac{\\grad p(\\tau|\\vec{\\theta})}{p(\\tau|\\vec{\\theta})}p(\\tau|\\vec{\\theta})d\\tau \\\\\n",
    "&= -\\int g(\\tau)\\grad\\log\\left(p(\\tau|\\vec{\\theta})\\right)p(\\tau|\\vec{\\theta})d\\tau \\\\\n",
    "&= -\\int g(\\tau)\\grad\\log\\left( p(s_0)\\prod_{t\\geq0} \\pi_{\\vec{\\theta}}(a_t|s_t)p(s_{t+1}|s_t,a_t) \\right)\n",
    "p(\\tau|\\vec{\\theta})d\\tau \\\\\n",
    "&= -\\int g(\\tau)\\grad\\left( \\log p(s_0) + \\sum_{t\\geq0} \\log \\pi_{\\vec{\\theta}}(a_t|s_t) + \n",
    "\\sum_{t\\geq0}\\log p(s_{t+1}|s_t,a_t) \\right) p(\\tau|\\vec{\\theta})d\\tau \\\\\n",
    "&= -\\int g(\\tau)\\sum_{t\\geq0} \\grad\\log \\pi_{\\vec{\\theta}}(a_t|s_t) p(\\tau|\\vec{\\theta})d\\tau \\\\\n",
    "&= \\E[\\tau]{-g(\\tau)\\sum_{t\\geq0} \\grad\\log \\pi_{\\vec{\\theta}}(a_t|s_t)}.\n",
    "\\end{align}\n",
    "$$"
   ]
  },
  {
   "cell_type": "markdown",
   "metadata": {},
   "source": [
    "This is the \"vanilla\" version of the policy gradient. We can interpret is as a weighted log-likelihood function.\n",
    "The log-policy is the log-likelihood term we wish to maximize and the total discounted reward acts as a weight: high-return positive\n",
    "trajectories will cause the probability of actions taken during them to increase, and negative-return trajectories will cause the\n",
    "probabilities of actions taken to decrease.\n",
    "\n",
    "In the following figures we see three trajectories: high-return positive-reward (green), low-return positive-reward (yellow) and negative-return (red) and the action probabilities along the trajectories after the update. Credit: Sergey Levine.\n",
    "\n",
    "|<strong></strong>||\n",
    "|-----| ----|\n",
    "|<img src=\"imgs/pg1.png\" height=\"200\">|<img src=\"imgs/pg2.png\" height=\"200\">|\n"
   ]
  },
  {
   "cell_type": "markdown",
   "metadata": {},
   "source": [
    "The major drawback of the policy-gradient is it's high variance, which causes erratic optimization behavior and therefore slow convergence.\n",
    "One reason for this is that the log-policy weight term, $g(\\tau)$ can vary wildly between different trajectories, even if they're similar in\n",
    "actions. Later on we'll implement the loss and explore some methods of variance reduction."
   ]
  },
  {
   "cell_type": "markdown",
   "metadata": {},
   "source": [
    "### Landing on the moon with policy gradients"
   ]
  },
  {
   "cell_type": "markdown",
   "metadata": {},
   "source": [
    "In the spirit of the recent achievements of the Israeli space industry,\n",
    "we'll apply our reinforcement learning skills to solve a simple game called **LunarLander**.\n",
    "\n",
    "This game is available as an `environment` in OpenAI `gym`.\n",
    "\n",
    "<video loop autoplay src=\"http://gym.openai.com/videos/2019-04-06--My9IiAbqha/LunarLander-v2/original.mp4\" />"
   ]
  },
  {
   "cell_type": "markdown",
   "metadata": {},
   "source": [
    "In this environment, you need to control the lander and get it to land safely on the moon.\n",
    "To do so, you must apply bottom, right or left thrusters (each are either fully on or fully off)\n",
    "and get it to land within the designated zone as quickly as possible and with minimal wasted fuel."
   ]
  },
  {
   "cell_type": "code",
   "execution_count": 3,
   "metadata": {},
   "outputs": [],
   "source": [
    "import gym\n",
    "\n",
    "# Just for fun :) ... but also to re-define the default max number of steps\n",
    "ENV_NAME = 'Beresheet-v2'\n",
    "MAX_EPISODE_STEPS = 300\n",
    "if ENV_NAME not in gym.envs.registry.env_specs:\n",
    "    gym.register(\n",
    "        id=ENV_NAME,\n",
    "        entry_point='gym.envs.box2d:LunarLander',\n",
    "        max_episode_steps=MAX_EPISODE_STEPS,\n",
    "        reward_threshold=200,\n",
    "    )"
   ]
  },
  {
   "cell_type": "code",
   "execution_count": 4,
   "metadata": {},
   "outputs": [
    {
     "name": "stdout",
     "output_type": "stream",
     "text": [
      "<TimeLimit<LunarLander<Beresheet-v2>>>\n",
      "observations space: Box([-inf -inf -inf -inf -inf -inf -inf -inf], [inf inf inf inf inf inf inf inf], (8,), float32)\n",
      "action space: Discrete(4)\n"
     ]
    }
   ],
   "source": [
    "import gym\n",
    "\n",
    "env = gym.make(ENV_NAME)\n",
    "\n",
    "print(env)\n",
    "print(f'observations space: {env.observation_space}')\n",
    "print(f'action space: {env.action_space}')\n",
    "\n",
    "ENV_N_ACTIONS = env.action_space.n\n",
    "ENV_N_OBSERVATIONS = env.observation_space.shape[0]"
   ]
  },
  {
   "cell_type": "markdown",
   "metadata": {},
   "source": [
    "The observations at each step is the Lander's position, velocity, angle, angular velocity and ground contact state.\n",
    "The actions are no-op, fire left truster, bottom thruster and right thruster.\n",
    "\n",
    "You are **highly encouraged** to read the [documentation](https://github.com/openai/gym/blob/master/gym/envs/box2d/lunar_lander.py) in the source code of the `LunarLander` environment to understand the reward system,\n",
    "and see how the actions and observations are created."
   ]
  },
  {
   "cell_type": "markdown",
   "metadata": {},
   "source": [
    "### Policy network and Agent"
   ]
  },
  {
   "cell_type": "markdown",
   "metadata": {},
   "source": [
    "Let's start with our policy-model. This will be a simple neural net, which should take an observation and return a score for each possible action."
   ]
  },
  {
   "cell_type": "markdown",
   "metadata": {},
   "source": [
    "**TODO**:\n",
    "1. Implement all methods in the `PolicyNet` class in the `hw4/rl_pg.py` module.\n",
    "   Start small. A simple MLP with a few hidden layers is a good starting point. You can come back and change it later based on the the experiments.  \n",
    "   Notice that we'll use the `build_for_env` method to instantiate a `PolicyNet` based on the configuration of a given environment.\n",
    "2. If you need hyperparameters to configure your model (e.g. number of hidden layers, sizes, etc.), add them in `part1_pg_hyperparams()` in `hw4/answers.py`."
   ]
  },
  {
   "cell_type": "code",
   "execution_count": 5,
   "metadata": {},
   "outputs": [
    {
     "data": {
      "text/plain": [
       "PolicyNet(\n",
       "  (pnn): Sequential(\n",
       "    (0): Linear(in_features=8, out_features=256, bias=True)\n",
       "    (1): ReLU()\n",
       "    (2): Linear(in_features=256, out_features=256, bias=True)\n",
       "    (3): ReLU()\n",
       "    (4): Linear(in_features=256, out_features=4, bias=True)\n",
       "  )\n",
       ")"
      ]
     },
     "execution_count": 5,
     "metadata": {},
     "output_type": "execute_result"
    }
   ],
   "source": [
    "import hw4.rl_pg as hw4pg\n",
    "import hw4.answers\n",
    "\n",
    "hp = hw4.answers.part1_pg_hyperparams()\n",
    "\n",
    "# You can add keyword-args to this function which will be populated from the\n",
    "# hyperparameters dict.\n",
    "p_net = hw4pg.PolicyNet.build_for_env(env, device, **hp)\n",
    "p_net"
   ]
  },
  {
   "cell_type": "markdown",
   "metadata": {},
   "source": [
    "Now we need an **agent**. The purpose of our agent will be to act according to the current policy and generate experiences.\n",
    "Our `PolicyAgent` will use a `PolicyNet` as the current policy function.\n",
    "\n",
    "\n",
    "We'll also define some extra datatypes to help us represent the data generated by our agent.\n",
    "You can find the `Experience`, `Episode` and `TrainBatch` datatypes in the `hw4/rl_data.py` module."
   ]
  },
  {
   "cell_type": "markdown",
   "metadata": {},
   "source": [
    "**TODO**: Implement the `current_action_distribution()` method of the `PolicyAgent` class in the `hw4/rl_pg.py` module."
   ]
  },
  {
   "cell_type": "code",
   "execution_count": 6,
   "metadata": {},
   "outputs": [
    {
     "name": "stdout",
     "output_type": "stream",
     "text": [
      "tensor([0.2350, 0.2716, 0.2508, 0.2426])\n"
     ]
    }
   ],
   "source": [
    "for i in range (10):\n",
    "    agent = hw4pg.PolicyAgent(env, p_net, device)\n",
    "    d = agent.current_action_distribution()\n",
    "    \n",
    "    test.assertSequenceEqual(d.shape, (env.action_space.n,))\n",
    "    test.assertAlmostEqual(d.sum(), 1.0, delta=1e-5)\n",
    "    \n",
    "print(d)"
   ]
  },
  {
   "cell_type": "markdown",
   "metadata": {},
   "source": [
    "**TODO**: Implement the `step()` method of the `PolicyAgent`."
   ]
  },
  {
   "cell_type": "code",
   "execution_count": 7,
   "metadata": {},
   "outputs": [
    {
     "name": "stdout",
     "output_type": "stream",
     "text": [
      "Experience(state=array([ 0.00948563,  1.3936553 ,  0.4859224 , -0.39650598, -0.01285333,\n",
      "       -0.14826176,  0.        ,  0.        ], dtype=float32), action=3, reward=-2.241355455853578, is_done=False)\n"
     ]
    }
   ],
   "source": [
    "agent = hw4pg.PolicyAgent(env, p_net, device)\n",
    "exp = agent.step()\n",
    "\n",
    "test.assertIsInstance(exp, hw4pg.Experience)\n",
    "print(exp)"
   ]
  },
  {
   "cell_type": "markdown",
   "metadata": {},
   "source": [
    "To test our agent, we'll write some code that allows it to play an environment. We'll use the `Monitor`\n",
    "wrapper in `gym` to generate a video of the episode for visual debugging."
   ]
  },
  {
   "cell_type": "markdown",
   "metadata": {},
   "source": [
    "**TODO**: Complete the implementation of the `monitor_episode()` method of the `PolicyAgent`."
   ]
  },
  {
   "cell_type": "code",
   "execution_count": 8,
   "metadata": {},
   "outputs": [],
   "source": [
    "env, n_steps, reward = agent.monitor_episode(ENV_NAME, p_net, device=device)"
   ]
  },
  {
   "cell_type": "markdown",
   "metadata": {},
   "source": [
    "To display the Monitor video in this notebook, we'll use a helper function from our `jupyter_utils` and a small wrapper that extracts the path of the last video file. "
   ]
  },
  {
   "cell_type": "code",
   "execution_count": 9,
   "metadata": {},
   "outputs": [],
   "source": [
    "import cs236781.jupyter_utils as jupyter_utils\n",
    "\n",
    "def show_monitor_video(monitor_env, idx=0, **kw):\n",
    "    # Extract video path\n",
    "    video_path = monitor_env.videos[idx][0]\n",
    "    video_path = os.path.relpath(video_path, start=os.path.curdir)\n",
    "    \n",
    "    # Use helper function to embed the video\n",
    "    return jupyter_utils.show_video_in_notebook(video_path, **kw)"
   ]
  },
  {
   "cell_type": "code",
   "execution_count": 10,
   "metadata": {},
   "outputs": [
    {
     "name": "stdout",
     "output_type": "stream",
     "text": [
      "Episode ran for 65 steps. Total reward: -157.42\n"
     ]
    },
    {
     "data": {
      "text/html": [
       "<video src=\"data:video/mp4;base64,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\" controls autoplay width=\"500\" height=\"auto\" />"
      ],
      "text/plain": [
       "<IPython.core.display.HTML object>"
      ]
     },
     "execution_count": 10,
     "metadata": {},
     "output_type": "execute_result"
    }
   ],
   "source": [
    "print(f'Episode ran for {n_steps} steps. Total reward: {reward:.2f}')\n",
    "\n",
    "show_monitor_video(env, idx=0)"
   ]
  },
  {
   "cell_type": "markdown",
   "metadata": {},
   "source": [
    "### Training data"
   ]
  },
  {
   "cell_type": "markdown",
   "metadata": {},
   "source": [
    "The next step is to create data to train on.\n",
    "We need to train on batches of state-action pairs, so that our network can learn to predict the actions.\n",
    "\n",
    "We'll split this task into three parts:\n",
    "1. Generate a batch of `Episode`s, by using an `Agent` that's playing according to our current policy network.\n",
    "   Each `Episode` object contains the `Experience` objects created by the agent.\n",
    "2. Calculate the total discounted reward for each state we encountered and action we took. This is our action-value estimate.\n",
    "3. Convert the `Episode`s into a batch of tensors to train on.\n",
    "   Each batch will contain states, action taken per state, reward accrued, and the calculated estimated state-values.\n",
    "   These will be stored in a `TrainBatch` object.\n"
   ]
  },
  {
   "cell_type": "markdown",
   "metadata": {},
   "source": [
    "**TODO**: Complete the implementation of the `episode_batch_generator()` method in the `TrainBatchDataset` class within the `hw4.rl_data` module. This will address part 1 in the list above."
   ]
  },
  {
   "cell_type": "code",
   "execution_count": 11,
   "metadata": {},
   "outputs": [
    {
     "name": "stdout",
     "output_type": "stream",
     "text": [
      "First episode: Episode(total_reward=-182.08, #experences=125)\n"
     ]
    }
   ],
   "source": [
    "import hw4.rl_data as hw4data\n",
    "\n",
    "def agent_fn():\n",
    "    env = gym.make(ENV_NAME)\n",
    "    hp = hw4.answers.part1_pg_hyperparams()\n",
    "    p_net = hw4pg.PolicyNet.build_for_env(env, device, **hp)\n",
    "    return hw4pg.PolicyAgent(env, p_net, device)\n",
    "    \n",
    "ds = hw4data.TrainBatchDataset(agent_fn, episode_batch_size=8, gamma=0.9)\n",
    "batch_gen = ds.episode_batch_generator()\n",
    "b = next(batch_gen)\n",
    "print('First episode:', b[0])\n",
    "\n",
    "test.assertEqual(len(b), 8)\n",
    "for ep in b:\n",
    "    test.assertIsInstance(ep, hw4data.Episode)\n",
    "    \n",
    "    # Check that it's a full episode\n",
    "    is_done = [exp.is_done for exp in ep.experiences]\n",
    "    test.assertFalse(any(is_done[0:-1]))\n",
    "    test.assertTrue(is_done[-1])"
   ]
  },
  {
   "cell_type": "markdown",
   "metadata": {},
   "source": [
    "**TODO**: Complete the implementation of the `calc_qvals()` method in the `Episode` class.\n",
    "This will address part 2.\n",
    "These q-values are an estimate of the actual action value function: $$\\hat{q}_{t} = \\sum_{t'\\geq t} \\gamma^{t'-t}r_{t'+1}.$$"
   ]
  },
  {
   "cell_type": "code",
   "execution_count": 12,
   "metadata": {},
   "outputs": [],
   "source": [
    "np.random.seed(SEED)\n",
    "test_rewards = np.random.randint(-10, 10, 100)\n",
    "test_experiences = [hw4pg.Experience(None,None,r,False) for r in test_rewards] \n",
    "test_episode = hw4data.Episode(np.sum(test_rewards), test_experiences)\n",
    "\n",
    "qvals = test_episode.calc_qvals(0.9)\n",
    "qvals = list(qvals)\n",
    "\n",
    "expected_qvals = np.load(os.path.join('tests', 'assets', 'part1_expected_qvals.npy'))\n",
    "for i in range(len(test_rewards)):\n",
    "    test.assertAlmostEqual(expected_qvals[i], qvals[i], delta=1e-3)"
   ]
  },
  {
   "cell_type": "markdown",
   "metadata": {},
   "source": [
    "**TODO**: Complete the implementation of the `from_episodes()` method in the `TrainBatch` class.\n",
    "This will address part 3.\n",
    "\n",
    "Notes:\n",
    "- The `TrainBatchDataset` class provides a generator function that will use the above function to lazily generate batches of training samples and labels on demand.\n",
    "- This allows us to use a standard `PyTorch` dataloader to wrap our Dataset and provide us with parallel data loading for free!\n",
    "  This means we can run multiple environments with multiple agents in separate background processes to generate data for training and thus prevent the data loading bottleneck which is caused by the fact that we must generate full Episodes to train on in order to calculate the q-values.\n",
    "- We'll set the `DataLoader`'s `batch_size` to `None` because we have already implemented custom batching in our dataset.\n",
    "- You can choose the number of worker processes generating data using the `num_workers` parameter in the hyperparams dict. Set `num_workers=0` to disable parallelization."
   ]
  },
  {
   "cell_type": "code",
   "execution_count": 13,
   "metadata": {},
   "outputs": [
    {
     "name": "stdout",
     "output_type": "stream",
     "text": [
      "#0: TrainBatch(states: torch.Size([737, 8]), actions: torch.Size([737]), q_vals: torch.Size([737])), num_episodes: 8)\n",
      "\n",
      "#1: TrainBatch(states: torch.Size([697, 8]), actions: torch.Size([697]), q_vals: torch.Size([697])), num_episodes: 8)\n",
      "\n",
      "#2: TrainBatch(states: torch.Size([654, 8]), actions: torch.Size([654]), q_vals: torch.Size([654])), num_episodes: 8)\n",
      "\n"
     ]
    }
   ],
   "source": [
    "from torch.utils.data import DataLoader\n",
    "\n",
    "hp = hw4.answers.part1_pg_hyperparams()\n",
    "\n",
    "ds = hw4data.TrainBatchDataset(agent_fn, episode_batch_size=8, gamma=0.9)\n",
    "dl = DataLoader(\n",
    "    ds,\n",
    "    batch_size=None,\n",
    "    num_workers=hp['num_workers'],\n",
    "    multiprocessing_context='fork' if hp['num_workers'] > 0 else None\n",
    ")\n",
    "\n",
    "\n",
    "for i, train_batch in enumerate(dl):\n",
    "    states, actions, qvals, reward_mean = train_batch\n",
    "    print(f'#{i}: {train_batch}', end=\"\\n\\n\")\n",
    "    test.assertEqual(states.shape[0], actions.shape[0])\n",
    "    test.assertEqual(qvals.shape[0], actions.shape[0])\n",
    "    test.assertEqual(states.shape[1], env.observation_space.shape[0])\n",
    "    if i > 1:\n",
    "        break"
   ]
  },
  {
   "cell_type": "markdown",
   "metadata": {},
   "source": [
    "### Loss functions"
   ]
  },
  {
   "cell_type": "markdown",
   "metadata": {},
   "source": [
    "As usual, we need a loss function to optimize over.\n",
    "We'll calculate three types of losses:\n",
    "1. The causal vanilla policy gradient loss.\n",
    "1. The policy gradient loss, with a baseline to reduce variance.\n",
    "2. An entropy-based loss whos purpose is to diversify the agent's action selection,\n",
    "   and prevent it from being \"too sure\" about its actions.\n",
    "   This loss will be used together with one of the above losses."
   ]
  },
  {
   "cell_type": "markdown",
   "metadata": {},
   "source": [
    "#### Causal vanilla policy-gradient"
   ]
  },
  {
   "cell_type": "markdown",
   "metadata": {},
   "source": [
    "We have derived the policy-gradient as\n",
    "$$\n",
    "\\grad\\mathcal{L}(\\vec{\\theta}) = \\E[\\tau]{-g(\\tau)\\sum_{t\\geq0} \\grad\\log \\pi_{\\vec{\\theta}}(a_t|s_t)}.\n",
    "$$\n",
    "\n",
    "By writing the discounted reward explicitly and enforcing causality, i.e. the action taken at time $t$ can't affect\n",
    "the reward at time $t'<t$, we can get a slightly lower-variance version of the policy gradient:\n",
    "\n",
    "$$\n",
    "\\grad\\mathcal{L}_{\\text{PG}}(\\vec{\\theta}) = \n",
    "\\E[\\tau]{-\\sum_{t\\geq0} \\left(\\sum_{t'\\geq t} \\gamma^{t'-t}r_{t'+1} \\right)\\grad\\log \\pi_{\\vec{\\theta}}(a_t|s_t)}.\n",
    "$$"
   ]
  },
  {
   "cell_type": "markdown",
   "metadata": {},
   "source": [
    "In practice, the expectation over trajectories is calculated using a Monte-Carlo approach, i.e. simply sampling $N$\n",
    "trajectories and average the term inside the expectation. Therefore, we will use the following estimated version of the policy gradient:\n",
    "\n",
    "$$\n",
    "\\begin{align}\n",
    "\\hat\\grad\\mathcal{L}_{\\text{PG}}(\\vec{\\theta})\n",
    "&=-\\frac{1}{N}\\sum_{i=1}^{N}\\sum_{t\\geq0} \\left(\\sum_{t'\\geq t} \\gamma^{t'-t}r_{i,t'+1} \\right)\\grad\\log \\pi_{\\vec{\\theta}}(a_{i,t}|s_{i,t}) \\\\\n",
    "&=-\\frac{1}{N}\\sum_{i=1}^{N}\\sum_{t\\geq0} \\hat{q}_{i,t} \\grad\\log \\pi_{\\vec{\\theta}}(a_{i,t}|s_{i,t}).\n",
    "\\end{align}\n",
    "$$\n",
    "\n",
    "Note the use of the notation $\\hat{q}_{i,t}$ to represent the estimated action-value at time $t$ in the sampled trajectory $i$.\n",
    "Here $\\hat{q}_{i,t}$ is acting as the weight-term for the policy gradient."
   ]
  },
  {
   "cell_type": "markdown",
   "metadata": {},
   "source": [
    "**TODO**: Complete the implementation of the `VanillaPolicyGradientLoss` class in the `hw4/rl_pg.py` module."
   ]
  },
  {
   "cell_type": "code",
   "execution_count": 21,
   "metadata": {},
   "outputs": [
    {
     "name": "stdout",
     "output_type": "stream",
     "text": [
      "test_batch=TrainBatch(states: torch.Size([375, 8]), actions: torch.Size([375]), q_vals: torch.Size([375])), num_episodes: 4)\n",
      "\n",
      "test_action_scores=\n",
      "tensor([[ 0.8932,  0.4749,  0.8569, -0.7365],\n",
      "        [-0.7853,  1.0901, -0.0665,  1.2573],\n",
      "        [ 0.0867, -1.2705, -0.1987, -0.4103],\n",
      "        ...,\n",
      "        [-0.7778, -2.4352,  0.1117,  0.9482],\n",
      "        [-1.4593, -0.0609, -0.1148,  1.5804],\n",
      "        [ 1.2975, -0.3326, -1.0626,  0.3869]])\n",
      "shape=torch.Size([375, 4])\n",
      "\n",
      "loss_p=tensor(-48.5605)\n"
     ]
    }
   ],
   "source": [
    "# Ensure deterministic run\n",
    "env = gym.make(ENV_NAME)\n",
    "env.seed(SEED)\n",
    "torch.manual_seed(SEED)\n",
    "\n",
    "def agent_fn():\n",
    "    # Use a simple \"network\" here, so that this test doesn't depend on\n",
    "    # your specific PolicyNet implementation\n",
    "    p_net_test = nn.Linear(ENV_N_OBSERVATIONS, ENV_N_ACTIONS, bias=True)\n",
    "    agent = hw4pg.PolicyAgent(env, p_net_test)\n",
    "    return agent\n",
    "\n",
    "dataloader = hw4data.TrainBatchDataset(agent_fn, gamma=0.9, episode_batch_size=4)\n",
    "\n",
    "test_batch = next(iter(dataloader))\n",
    "test_action_scores = torch.randn(len(test_batch), env.action_space.n)\n",
    "print(f\"{test_batch=}\", end='\\n\\n')\n",
    "print(f\"test_action_scores=\\n{test_action_scores}\\nshape={test_action_scores.shape}\", end='\\n\\n')\n",
    "\n",
    "loss_fn_p = hw4pg.VanillaPolicyGradientLoss()\n",
    "loss_p, _ = loss_fn_p(test_batch, test_action_scores)\n",
    "\n",
    "print(f'{loss_p=}')\n",
    "test.assertAlmostEqual(loss_p.item(), -48.560, delta=1e-2)"
   ]
  },
  {
   "cell_type": "markdown",
   "metadata": {},
   "source": [
    "#### Policy-gradient with baseline"
   ]
  },
  {
   "cell_type": "markdown",
   "metadata": {},
   "source": [
    "Another way to reduce the variance of our gradient is to use relative weighting of the log-policy instead of absolute reward values.\n",
    "$$\n",
    "\\hat\\grad\\mathcal{L}_{\\text{BPG}}(\\vec{\\theta})\n",
    "=-\\frac{1}{N}\\sum_{i=1}^{N}\\sum_{t\\geq0} \\left(\\hat{q}_{i,t}-b\\right) \\grad\\log \\pi_{\\vec{\\theta}}(a_{i,t}|s_{i,t}).\n",
    "$$\n",
    "In other words, we don't measure a trajectory's worth by it's total reward, but by how much better that total reward is relative to some\n",
    "expected (\"baseline\") reward value, denoted above by $b$.\n",
    "Note that subtracting a baseline has no effect on the expected value of the policy gradient. It's easy to prove this directly by definition.\n",
    "\n",
    "Here we'll implement a very simple baseline (not optimal in terms of variance reduction): the average of the estimated state-values $\\hat{q}_{i,t}$."
   ]
  },
  {
   "cell_type": "markdown",
   "metadata": {},
   "source": [
    "**TODO**: Complete the implementation of the `BaselinePolicyGradientLoss` class in the `hw4/rl_pg.py` module."
   ]
  },
  {
   "cell_type": "code",
   "execution_count": null,
   "metadata": {},
   "outputs": [],
   "source": [
    "# Using the same batch and action_scores from above cell\n",
    "loss_fn_p = hw4pg.BaselinePolicyGradientLoss()\n",
    "loss_p, loss_dict = loss_fn_p(test_batch, test_action_scores)\n",
    "\n",
    "print(f'{loss_dict=}')\n",
    "test.assertAlmostEqual(loss_dict['baseline'], -29.841, delta=1e-2)\n",
    "test.assertAlmostEqual(loss_p.item(), 1.297, delta=1e-2)"
   ]
  },
  {
   "cell_type": "markdown",
   "metadata": {},
   "source": [
    "#### Entropy loss"
   ]
  },
  {
   "cell_type": "markdown",
   "metadata": {},
   "source": [
    "The entropy of a probability distribution (in our case the policy), is\n",
    "$$\n",
    "H(\\pi) = -\\sum_{a} \\pi(a|s)\\log\\pi(a|s).\n",
    "$$\n",
    "The entropy is always positive and obtains it's maximum for a uniform distribution.\n",
    "We'll use the entropy of the policy as a bonus, i.e. we'll try to maximize it.\n",
    "The idea is the prevent the policy distribution from becoming too narrow and thus promote the agent's exploration."
   ]
  },
  {
   "cell_type": "markdown",
   "metadata": {},
   "source": [
    "First, we'll calculate the maximal possible entropy value of the action distribution for a set number of possible actions.\n",
    "This will be used as a normalization term.\n",
    "\n",
    "**TODO**: Complete the implementation of the `calc_max_entropy()` method in the `ActionEntropyLoss` class."
   ]
  },
  {
   "cell_type": "code",
   "execution_count": null,
   "metadata": {},
   "outputs": [],
   "source": [
    "loss_fn_e = hw4pg.ActionEntropyLoss(env.action_space.n)\n",
    "print('max_entropy = ', loss_fn_e.max_entropy)\n",
    "\n",
    "test.assertAlmostEqual(loss_fn_e.max_entropy, 1.38629436, delta=1e-3)"
   ]
  },
  {
   "cell_type": "markdown",
   "metadata": {},
   "source": [
    "**TODO**: Complete the implementation of the `forward()` method in the `ActionEntropyLoss` class."
   ]
  },
  {
   "cell_type": "code",
   "execution_count": null,
   "metadata": {},
   "outputs": [],
   "source": [
    "loss_e, _ = loss_fn_e(test_batch, test_action_scores)\n",
    "print('loss = ', loss_e)\n",
    "\n",
    "test.assertAlmostEqual(loss_e.item(), -0.8103, delta=1e-2)"
   ]
  },
  {
   "cell_type": "markdown",
   "metadata": {},
   "source": [
    "### Training"
   ]
  },
  {
   "cell_type": "markdown",
   "metadata": {},
   "source": [
    "We'll implement our training procedure as follows:\n",
    "\n",
    "1. Initialize the current policy to be a random policy.\n",
    "1. Sample $N$ trajectories from the environment using the current policy.\n",
    "2. Calculate the estimated $q$-values, $\\hat{q}_{i,t} = \\sum_{t'\\geq t} \\gamma^{t'}r_{i,t'+1}$ for each trajectory $i$.\n",
    "3. Calculate policy gradient estimate $\\hat\\grad\\mathcal{L}(\\vec{\\theta})$ as defined above.\n",
    "4. Perform SGD update $\\vec{\\theta}\\leftarrow\\vec{\\theta}-\\eta\\hat\\grad\\mathcal{L}(\\vec{\\theta})$.\n",
    "5. Repeat from step 2.\n",
    "\n",
    "This is known as the **REINFORCE** algorithm."
   ]
  },
  {
   "cell_type": "markdown",
   "metadata": {},
   "source": [
    "Fortunately, we've already implemented everything we need for steps 1-4 so we need only a bit more code to put it all together.\n",
    "\n",
    "The following block implements a wrapper, `train_pg` to create all the objects we need in order to train our policy gradient model.\n"
   ]
  },
  {
   "cell_type": "code",
   "execution_count": null,
   "metadata": {},
   "outputs": [],
   "source": [
    "import hw4.answers\n",
    "from functools import partial\n",
    "\n",
    "ENV_NAME = \"Beresheet-v2\"\n",
    "\n",
    "def agent_fn_train(agent_type, p_net, seed, envs_dict):\n",
    "    winfo = torch.utils.data.get_worker_info()\n",
    "    wid = winfo.id if winfo else 0\n",
    "    seed = seed + wid if seed else wid\n",
    "\n",
    "    env = gym.make(ENV_NAME)\n",
    "    envs_dict[wid] = env\n",
    "    env.seed(seed)\n",
    "    np.random.seed(seed)\n",
    "    torch.manual_seed(seed)\n",
    "\n",
    "    return agent_type(env, p_net)\n",
    "\n",
    "def train_rl(agent_type, net_type, loss_fns, hp, seed=None, checkpoints_file=None, **train_kw):\n",
    "    print(f'hyperparams: {hp}')\n",
    "    \n",
    "    envs = {}\n",
    "    p_net = net_type(ENV_N_OBSERVATIONS, ENV_N_ACTIONS, **hp)\n",
    "    p_net.share_memory()\n",
    "    agent_fn = partial(agent_fn_train, agent_type, p_net, seed, envs)\n",
    "    \n",
    "    dataset = hw4data.TrainBatchDataset(agent_fn, hp['batch_size'], hp['gamma'])\n",
    "    dataloader = DataLoader(\n",
    "        dataset, batch_size=None,\n",
    "        num_workers=hp['num_workers'],\n",
    "        multiprocessing_context='fork' if hp['num_workers'] > 0 else None\n",
    "    )\n",
    "    optimizer = optim.Adam(p_net.parameters(), lr=hp['learn_rate'], eps=hp['eps'])\n",
    "    \n",
    "    trainer = hw4pg.PolicyTrainer(p_net, optimizer, loss_fns, dataloader, checkpoints_file)\n",
    "    try:\n",
    "        trainer.train(**train_kw)\n",
    "    except KeyboardInterrupt as e:\n",
    "        print('Training interrupted by user.')\n",
    "    finally:\n",
    "        for env in envs.values():\n",
    "            env.close()\n",
    "\n",
    "    # Include final model state\n",
    "    training_data = trainer.training_data\n",
    "    training_data['model_state'] = p_net.state_dict()\n",
    "    return training_data\n",
    "    \n",
    "def train_pg(baseline=False, entropy=False, **train_kwargs):\n",
    "    hp = hw4.answers.part1_pg_hyperparams()\n",
    "    \n",
    "    loss_fns = []\n",
    "    if baseline:\n",
    "        loss_fns.append(hw4pg.BaselinePolicyGradientLoss())\n",
    "    else:\n",
    "        loss_fns.append(hw4pg.VanillaPolicyGradientLoss())\n",
    "    if entropy:\n",
    "        loss_fns.append(hw4pg.ActionEntropyLoss(ENV_N_ACTIONS, hp['beta']))\n",
    "\n",
    "    return train_rl(hw4pg.PolicyAgent, hw4pg.PolicyNet, loss_fns, hp, **train_kwargs)"
   ]
  },
  {
   "cell_type": "markdown",
   "metadata": {},
   "source": [
    "The `PolicyTrainer` class implements the training loop, collects the losses and rewards and provides some useful checkpointing functionality.\n",
    "The training loop will generate batches of episodes and train on them until either:\n",
    "- The average total reward from the last `running_mean_len` episodes is greater than the `target_reward`, OR\n",
    "- The number of generated episodes reached `max_episodes`.\n",
    "\n",
    "Most of this class is already implemented for you. "
   ]
  },
  {
   "cell_type": "markdown",
   "metadata": {},
   "source": [
    "**TODO**:\n",
    "1. Complete the training loop by implementing the `train_batch()` method of the `PolicyTrainer`.\n",
    "2. Tweak the hyperparameters in the `part1_pg_hyperparams()` function within the `hw4/answers.py` module as needed. You get some sane defaults."
   ]
  },
  {
   "cell_type": "markdown",
   "metadata": {},
   "source": [
    "Let's check whether our model is actually training.\n",
    "We'll try to reach a very low (bad) target reward, just as a sanity check to see that training works.\n",
    "Your model should be able to reach this target reward within a few batches.\n",
    "\n",
    "You can increase the target reward and use this block to manually tweak your model and hyperparameters a few times."
   ]
  },
  {
   "cell_type": "code",
   "execution_count": null,
   "metadata": {},
   "outputs": [],
   "source": [
    "target_reward = -140 # VERY LOW target\n",
    "train_data = train_pg(target_reward=target_reward, seed=SEED, max_episodes=2000, running_mean_len=10)\n",
    "\n",
    "test.assertGreater(train_data['mean_reward'][-1], target_reward)"
   ]
  },
  {
   "cell_type": "markdown",
   "metadata": {},
   "source": [
    "### Experimenting with different losses"
   ]
  },
  {
   "cell_type": "markdown",
   "metadata": {},
   "source": [
    "We'll now run a few experiments to see the effect of diferent loss functions on the training dynamics. Namely, we'll try:\n",
    "1. Vanilla PG (`vpg`): No baseline, no entropy\n",
    "2. Baseline PG (`bpg`): Baseline, no entropy loss\n",
    "3. Entropy PG (`epg`): No baseline, with entropy loss\n",
    "3. Combined PG (`cpg`): Baseline, with entropy loss"
   ]
  },
  {
   "cell_type": "code",
   "execution_count": null,
   "metadata": {},
   "outputs": [],
   "source": [
    "from collections import namedtuple\n",
    "from pprint import pprint\n",
    "import itertools as it\n",
    "\n",
    "\n",
    "ExpConfig = namedtuple('ExpConfig', ('name','baseline','entropy'))\n",
    "\n",
    "def exp_configs():\n",
    "    exp_names = ('vpg', 'epg', 'bpg', 'cpg')\n",
    "    z = zip(exp_names, it.product((False, True), (False, True)))\n",
    "    return (ExpConfig(n, b, e) for (n, (b, e)) in z)\n",
    "\n",
    "pprint(list(exp_configs()))"
   ]
  },
  {
   "cell_type": "markdown",
   "metadata": {},
   "source": [
    "We'll save the training data from each experiment for plotting."
   ]
  },
  {
   "cell_type": "code",
   "execution_count": null,
   "metadata": {},
   "outputs": [],
   "source": [
    "import pickle\n",
    "\n",
    "def dump_training_data(data, filename):\n",
    "    os.makedirs(os.path.dirname(filename), exist_ok=True)\n",
    "    with open(filename, mode='wb') as file:\n",
    "        pickle.dump(data, file)\n",
    "        \n",
    "def load_training_data(filename):\n",
    "    with open(filename, mode='rb') as file:\n",
    "        return pickle.load(file)"
   ]
  },
  {
   "cell_type": "markdown",
   "metadata": {},
   "source": [
    "Let's run the experiments! We'll run each configuration for a fixed number of episodes so that we can compare them.\n",
    "\n",
    "Notes:\n",
    "1. Until your models start working, you can decrease the number of episodes for each experiment, or only run one experiment.\n",
    "2.  The results will be saved in a file. To re-run the experiments, you can set `force_run` to `True`."
   ]
  },
  {
   "cell_type": "code",
   "execution_count": null,
   "metadata": {},
   "outputs": [],
   "source": [
    "import math\n",
    "\n",
    "exp_max_episodes = 4000\n",
    "\n",
    "results = {}\n",
    "training_data_filename = os.path.join('results', f'part1_exp.dat')\n",
    "\n",
    "# Set to True to force re-run (careful! will delete old experiment results)\n",
    "force_run = False\n",
    "\n",
    "# Skip running if results file exists.\n",
    "if os.path.isfile(training_data_filename) and not force_run:\n",
    "    print(f'=== results file {training_data_filename} exists, skipping experiments.')\n",
    "    results = load_training_data(training_data_filename)\n",
    "    \n",
    "else:\n",
    "    for n, b, e in exp_configs():\n",
    "        print(f'=== Experiment {n}')\n",
    "        results[n] = train_pg(baseline=b, entropy=e, max_episodes=exp_max_episodes, post_batch_fn=None)\n",
    "        \n",
    "    dump_training_data(results, training_data_filename)"
   ]
  },
  {
   "cell_type": "code",
   "execution_count": null,
   "metadata": {},
   "outputs": [],
   "source": [
    "def plot_experiment_results(results, fig=None):\n",
    "    if fig is None:\n",
    "        fig, _ = plt.subplots(nrows=2, ncols=2, sharex=True, figsize=(18,12))\n",
    "    for i, plot_type in enumerate(('loss_p', 'baseline', 'loss_e', 'mean_reward')):\n",
    "        ax = fig.axes[i]\n",
    "        for exp_name, exp_res in results.items():\n",
    "            if plot_type not in exp_res:\n",
    "                continue\n",
    "            ax.plot(exp_res['episode_num'], exp_res[plot_type], label=exp_name)\n",
    "        ax.set_title(plot_type)\n",
    "        ax.set_xlabel('episode')\n",
    "        ax.legend()\n",
    "    return fig\n",
    "    \n",
    "experiments_results_fig = plot_experiment_results(results)"
   ]
  },
  {
   "cell_type": "markdown",
   "metadata": {},
   "source": [
    "You should see positive training dynamics in the graphs (reward going up).\n",
    "If you don't, use them to further update your model or hyperparams.\n",
    "\n",
    "To pass the test, you'll need to get a best total mean reward of at least 10 in the fixed number of epochs using the combined loss.\n",
    "It's possible to get much higher (over 100)."
   ]
  },
  {
   "cell_type": "code",
   "execution_count": null,
   "metadata": {},
   "outputs": [],
   "source": [
    "best_cpg_mean_reward = max(results['cpg']['mean_reward'])\n",
    "print(f'Best CPG mean reward: {best_cpg_mean_reward:.2f}')\n",
    "\n",
    "test.assertGreater(best_cpg_mean_reward, 10)"
   ]
  },
  {
   "cell_type": "markdown",
   "metadata": {},
   "source": [
    "Now let's take a look at a gameplay video of our `cpg` model after the short training!"
   ]
  },
  {
   "cell_type": "code",
   "execution_count": null,
   "metadata": {},
   "outputs": [],
   "source": [
    "hp = hw4.answers.part1_pg_hyperparams()\n",
    "p_net_cpg = hw4pg.PolicyNet.build_for_env(env, **hp)\n",
    "p_net_cpg.load_state_dict(results['cpg']['model_state'])\n",
    "\n",
    "env, n_steps, reward = hw4pg.PolicyAgent.monitor_episode(ENV_NAME, p_net_cpg)\n",
    "print(f'{n_steps} steps, total reward: {reward:.2f}')\n",
    "show_monitor_video(env)"
   ]
  },
  {
   "cell_type": "markdown",
   "metadata": {},
   "source": [
    "## Advantage Actor-Critic (AAC)\n",
    "<a id=part1_2></a>"
   ]
  },
  {
   "cell_type": "markdown",
   "metadata": {},
   "source": [
    "We have seen that the policy-gradient loss can be interpreted as a log-likelihood of the policy term\n",
    "(selecting a specific action at a specific state), weighted by the future rewards of that choice of action.\n",
    "\n",
    "However, naïvely weighting by rewards has significant drawbacks in terms of the variance of the resulting gradient.\n",
    "We addressed this by adding a simple baseline term which represented our \"expected reward\" so that we increase probability of actions\n",
    "leading to trajectories which exceed this expectation and vice-versa.\n",
    "\n",
    "In this part we'll explore a more powerful baseline, which is the idea behind the AAC method."
   ]
  },
  {
   "cell_type": "markdown",
   "metadata": {},
   "source": [
    "### The advantage function"
   ]
  },
  {
   "cell_type": "markdown",
   "metadata": {},
   "source": [
    "Recall the definition of the state-value function $v_{\\pi}(s)$ and action-value function $q_{\\pi}(s,a)$:\n",
    "\n",
    "$$\n",
    "\\begin{align}\n",
    "v_{\\pi}(s) &= \\E{g(\\tau)|s_0 = s,\\pi} \\\\\n",
    "q_{\\pi}(s,a) &= \\E{g(\\tau)|s_0 = s,a_0=a,\\pi}.\n",
    "\\end{align}\n",
    "$$\n",
    "\n",
    "Both these functions represent the value of the state $s$. However, $v_\\pi$ averages over the first action according to the policy,\n",
    "while $q_\\pi$ fixes the first action and then continues according to the policy."
   ]
  },
  {
   "cell_type": "markdown",
   "metadata": {},
   "source": [
    "Their difference is known as the **advantage function**:\n",
    "$$\n",
    "a_\\pi(s,a) = q_\\pi(s,a)-v_\\pi(s).\n",
    "$$\n",
    "\n",
    "If $a_\\pi(s,a)>0$ it means that it's better (in expectation) to take action $a$ in state $s$ compared to the average action.\n",
    "In other words, $a_\\pi(s,a)$ represents the *advantage* of using action $a$ in state $s$ compared to the others."
   ]
  },
  {
   "cell_type": "markdown",
   "metadata": {},
   "source": [
    "So far we have used an estimate for $q_\\pi$ as our weighting term for the log-policy, with a fixed baseline per batch.\n",
    "\n",
    "$$\n",
    "\\hat\\grad\\mathcal{L}_{\\text{BPG}}(\\vec{\\theta})\n",
    "=-\\frac{1}{N}\\sum_{i=1}^{N}\\sum_{t\\geq0} \\left(\\hat{q}_{i,t}-b\\right) \\grad\\log \\pi_{\\vec{\\theta}}(a_{i,t}|s_{i,t}).\n",
    "$$\n"
   ]
  },
  {
   "cell_type": "markdown",
   "metadata": {},
   "source": [
    "Now, we will use the state value as a baseline, so that an estimate of the advantage function is our weighting term:\n",
    "\n",
    "$$\n",
    "\\hat\\grad\\mathcal{L}_{\\text{AAC}}(\\vec{\\theta})\n",
    "=-\\frac{1}{N}\\sum_{i=1}^{N}\\sum_{t\\geq0} \\left(\\hat{q}_{i,t}-v_\\pi(s_t)\\right) \\grad\\log \\pi_{\\vec{\\theta}}(a_{i,t}|s_{i,t}).\n",
    "$$\n",
    "\n",
    "Intuitively, using the advantage function makes sense because it means we're weighting our policy's actions according to\n",
    "how advantageous they are compared to other possible actions."
   ]
  },
  {
   "cell_type": "markdown",
   "metadata": {},
   "source": [
    "But how will we know $v_\\pi(s)$? We'll learn it of course, using another neural network.\n",
    "This is known as actor-critic learning. We simultaneously learn the policy (actor) and the value of states (critic).\n",
    "We'll treat it as a regression task: given a state $s_t$, our state-value network will output $\\hat{v}_\\pi(s_t)$,\n",
    "an estimate of the actual unknown state-value.\n",
    "Our regression targets will be the discounted rewards, $\\hat{q}_{i,t}$ (see question 2),\n",
    "and we can use a simple MSE as the loss function,\n",
    "$$\n",
    "\\mathcal{L}_{\\text{SV}} = \\frac{1}{N}\\sum_{i=1}^{N}\\sum_{t\\geq0}\\left(\\hat{v}_\\pi(s_t) - \\hat{q}_{i,t}\\right)^2.\n",
    "$$\n"
   ]
  },
  {
   "cell_type": "markdown",
   "metadata": {},
   "source": [
    "### Implementation"
   ]
  },
  {
   "cell_type": "markdown",
   "metadata": {},
   "source": [
    "We'll build heavily on our implementation of the regular policy-gradient method, and just add a new model class and a new loss class, with a small modification to the agent."
   ]
  },
  {
   "cell_type": "markdown",
   "metadata": {},
   "source": [
    "Let's start with the model. It will accept a state, and return action scores (as before), but also the value of that state.\n",
    "You can experiment with a dual-head network that has a shared base, or implement two separate parts within the network.\n",
    "\n",
    "**TODO**:\n",
    "1. Implement the model as the `AACPolicyNet` class in the `hw4/rl_ac.py` module.\n",
    "1. Set the hyperparameters in the `part1_aac_hyperparams()` function of the `hw4.answers` module."
   ]
  },
  {
   "cell_type": "code",
   "execution_count": null,
   "metadata": {},
   "outputs": [],
   "source": [
    "import hw4.rl_ac as hw4ac\n",
    "\n",
    "hp = hw4.answers.part1_aac_hyperparams()\n",
    "pv_net = hw4ac.AACPolicyNet.build_for_env(env, device, **hp)\n",
    "pv_net"
   ]
  },
  {
   "cell_type": "markdown",
   "metadata": {},
   "source": [
    "**TODO**: Complete the implementation of the agent class, `AACPolicyAgent`, in the `hw4/rl_ac.py` module."
   ]
  },
  {
   "cell_type": "code",
   "execution_count": null,
   "metadata": {},
   "outputs": [],
   "source": [
    "agent = hw4ac.AACPolicyAgent(env, pv_net, device)\n",
    "exp = agent.step()\n",
    "\n",
    "test.assertIsInstance(exp, hw4pg.Experience)\n",
    "print(exp)"
   ]
  },
  {
   "cell_type": "markdown",
   "metadata": {},
   "source": [
    "**TODO**: Implement the AAC loss function as the class `AACPolicyGradientLoss` in the `hw4/rl_ac.py` module."
   ]
  },
  {
   "cell_type": "code",
   "execution_count": null,
   "metadata": {},
   "outputs": [],
   "source": [
    "loss_fn_aac = hw4ac.AACPolicyGradientLoss(delta=1.)\n",
    "test_state_values = torch.ones(test_action_scores.shape[0], 1)\n",
    "loss_t, loss_dict = loss_fn_aac(test_batch, (test_action_scores, test_state_values))\n",
    "\n",
    "print(f'{loss_dict=}')\n",
    "test.assertAlmostEqual(loss_dict['adv_m'], -30.841, delta=1e-2)\n",
    "test.assertAlmostEqual(loss_t.item(), 1466.830, delta=1e-2)"
   ]
  },
  {
   "cell_type": "markdown",
   "metadata": {},
   "source": [
    "### Experimentation"
   ]
  },
  {
   "cell_type": "markdown",
   "metadata": {},
   "source": [
    "Let's run the same experiment as before, but with the AAC method and compare the results."
   ]
  },
  {
   "cell_type": "code",
   "execution_count": null,
   "metadata": {},
   "outputs": [],
   "source": [
    "def train_aac(baseline=False, entropy=False, **train_kwargs):\n",
    "    hp = hw4.answers.part1_aac_hyperparams()\n",
    "    loss_fns = [hw4ac.AACPolicyGradientLoss(hp['delta']), hw4pg.ActionEntropyLoss(ENV_N_ACTIONS, hp['beta'])]\n",
    "    return train_rl(hw4ac.AACPolicyAgent, hw4ac.AACPolicyNet, loss_fns, hp, **train_kwargs)"
   ]
  },
  {
   "cell_type": "code",
   "execution_count": null,
   "metadata": {},
   "outputs": [],
   "source": [
    "training_data_filename = os.path.join('results', f'part1_exp_aac.dat')\n",
    "\n",
    "# Set to True to force re-run (careful, will delete old experiment results)\n",
    "force_run = False\n",
    "\n",
    "if os.path.isfile(training_data_filename) and not force_run:\n",
    "    print(f'=== results file {training_data_filename} exists, skipping experiments.')\n",
    "    results_aac = load_training_data(training_data_filename)\n",
    "    \n",
    "else:\n",
    "    print(f'=== Running AAC experiment')\n",
    "    training_data = train_aac(max_episodes=exp_max_episodes)\n",
    "    results_aac = dict(aac=training_data)\n",
    "    dump_training_data(results_aac, training_data_filename)"
   ]
  },
  {
   "cell_type": "code",
   "execution_count": null,
   "metadata": {},
   "outputs": [],
   "source": [
    "experiments_results_fig = plot_experiment_results(results)\n",
    "plot_experiment_results(results_aac, fig=experiments_results_fig);"
   ]
  },
  {
   "cell_type": "markdown",
   "metadata": {},
   "source": [
    "You should get better results with the AAC method, so this time the bar is higher (again, you should aim for a mean reward of 100+).\n",
    "Compare the graphs with combined PG method and see if they make sense."
   ]
  },
  {
   "cell_type": "code",
   "execution_count": null,
   "metadata": {},
   "outputs": [],
   "source": [
    "best_aac_mean_reward = max(results_aac['aac']['mean_reward'])\n",
    "print(f'Best AAC mean reward: {best_aac_mean_reward:.2f}')\n",
    "\n",
    "test.assertGreater(best_aac_mean_reward, 50)"
   ]
  },
  {
   "cell_type": "markdown",
   "metadata": {},
   "source": [
    "### Final model training and visualization"
   ]
  },
  {
   "cell_type": "markdown",
   "metadata": {},
   "source": [
    "Now, using your best model and hyperparams, let's train model for much longer and see the performance.\n",
    "Just for fun, we'll also visualize an episode every now and then so that we can see how well the agent is playing."
   ]
  },
  {
   "cell_type": "markdown",
   "metadata": {},
   "source": [
    "**TODO**:\n",
    "- Run the following block to train.\n",
    "- Tweak model or hyperparams as necessary.\n",
    "- Aim for high mean reward, at least 150+. It's possible to get over 200.\n",
    "- When training is done and you're satisfied with the model's outputs, rename the checkpoint file by adding `_final` to the file name.\n",
    "  This will cause the block to skip training and instead load your saved model when running the homework submission script.\n",
    "  Note that your submission zip file will not include the checkpoint file. This is OK."
   ]
  },
  {
   "cell_type": "code",
   "execution_count": null,
   "metadata": {},
   "outputs": [],
   "source": [
    "import IPython.display\n",
    "\n",
    "CHECKPOINTS_FILE = f'checkpoints/{ENV_NAME}-ac.dat'\n",
    "CHECKPOINTS_FILE_FINAL = f'checkpoints/{ENV_NAME}-ac_final.dat'\n",
    "TARGET_REWARD = 125\n",
    "MAX_EPISODES = 15_000\n",
    "\n",
    "def post_batch_fn(batch_idx, p_net, batch, print_every=20, final=False):\n",
    "    if not final and batch_idx % print_every != 0:\n",
    "        return\n",
    "    env, n_steps, reward = hw4ac.AACPolicyAgent.monitor_episode(ENV_NAME, p_net)\n",
    "    html = show_monitor_video(env, width=\"500\")\n",
    "    IPython.display.clear_output(wait=True)\n",
    "    print(f'Monitor@#{batch_idx}: n_steps={n_steps}, total_reward={reward:.3f}, final={final}')\n",
    "    IPython.display.display_html(html)\n",
    "    \n",
    "    \n",
    "if os.path.isfile(CHECKPOINTS_FILE_FINAL):\n",
    "    print(f'=== {CHECKPOINTS_FILE_FINAL} exists, skipping training...')\n",
    "    checkpoint_data = torch.load(CHECKPOINTS_FILE_FINAL)\n",
    "    hp = hw4.answers.part1_aac_hyperparams()\n",
    "    pv_net = hw4ac.AACPolicyNet.build_for_env(env, **hp)\n",
    "    pv_net.load_state_dict(checkpoint_data['params'])\n",
    "    print(f'=== Running best model...')\n",
    "    env, n_steps, reward = hw4ac.AACPolicyAgent.monitor_episode(ENV_NAME, pv_net)\n",
    "    print(f'=== Best model ran for {n_steps} steps. Total reward: {reward:.2f}')\n",
    "    IPython.display.display_html(show_monitor_video(env))\n",
    "    best_mean_reward = checkpoint_data[\"best_mean_reward\"]\n",
    "else:\n",
    "    print(f'=== Starting training...')\n",
    "    train_data = train_aac(TARGET_REWARD, max_episodes=MAX_EPISODES,\n",
    "                           seed=None, checkpoints_file=CHECKPOINTS_FILE, post_batch_fn=post_batch_fn)\n",
    "    print(f'=== Done, ', end='')\n",
    "    best_mean_reward = train_data[\"best_mean_reward\"][-1]\n",
    "    print(f'num_episodes={train_data[\"episode_num\"][-1]}, best_mean_reward={best_mean_reward:.1f}')\n",
    "          \n",
    "test.assertGreaterEqual(best_mean_reward, TARGET_REWARD)"
   ]
  },
  {
   "cell_type": "markdown",
   "metadata": {
    "tags": []
   },
   "source": [
    "## Questions\n",
    "<a id=part1_3></a>"
   ]
  },
  {
   "cell_type": "markdown",
   "metadata": {},
   "source": [
    "**TODO**: Answer the following questions. Write your answers in the appropriate variables in the module `hw4/answers.py`."
   ]
  },
  {
   "cell_type": "code",
   "execution_count": null,
   "metadata": {},
   "outputs": [],
   "source": [
    "from cs236781.answers import display_answer\n",
    "import hw4.answers"
   ]
  },
  {
   "cell_type": "markdown",
   "metadata": {},
   "source": [
    "### Question 1\n",
    "\n",
    "Explain qualitatively why subtracting a baseline in the policy-gradient helps reduce it's variance.\n",
    "Specifically, give an example where it helps."
   ]
  },
  {
   "cell_type": "code",
   "execution_count": null,
   "metadata": {},
   "outputs": [],
   "source": [
    "display_answer(hw4.answers.part1_q1)"
   ]
  },
  {
   "cell_type": "markdown",
   "metadata": {},
   "source": [
    "### Question 2\n",
    "\n",
    "In AAC, when using the estimated q-values as regression targets for our state-values, why do we get a valid approximation?\n",
    "Hint: how is $v_\\pi(s)$ expressed in terms of $q_\\pi(s,a)$?"
   ]
  },
  {
   "cell_type": "code",
   "execution_count": null,
   "metadata": {},
   "outputs": [],
   "source": [
    "display_answer(hw4.answers.part1_q2)"
   ]
  },
  {
   "cell_type": "markdown",
   "metadata": {},
   "source": [
    "### Question 3\n",
    "\n",
    "1. Analyze and explain the graphs you got in first experiment run.\n",
    "2. Compare the experiment graphs you got with the AAC method to the regular PG method (`cpg`)."
   ]
  },
  {
   "cell_type": "code",
   "execution_count": null,
   "metadata": {
    "tags": []
   },
   "outputs": [],
   "source": [
    "display_answer(hw4.answers.part1_q3)"
   ]
  }
 ],
 "metadata": {
  "kernelspec": {
   "display_name": "Python 3 (ipykernel)",
   "language": "python",
   "name": "python3"
  },
  "language_info": {
   "codemirror_mode": {
    "name": "ipython",
    "version": 3
   },
   "file_extension": ".py",
   "mimetype": "text/x-python",
   "name": "python",
   "nbconvert_exporter": "python",
   "pygments_lexer": "ipython3",
   "version": "3.8.12"
  }
 },
 "nbformat": 4,
 "nbformat_minor": 4
}
